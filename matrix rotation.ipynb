{
 "cells": [
  {
   "cell_type": "code",
   "execution_count": 3,
   "metadata": {},
   "outputs": [
    {
     "name": "stdout",
     "output_type": "stream",
     "text": [
      "5 4 1\n",
      "1 2 3 4\n",
      "5 6 7 8\n",
      "9 10 11 12\n",
      "13 14 15 16\n",
      "17 18 19 20\n",
      "2 3 4 8\n",
      "1 7 11 12\n",
      "5 6 15 16\n",
      "9 10 14 20\n",
      "13 17 18 19\n"
     ]
    }
   ],
   "source": [
    "#matrix rotation\n",
    "h,w,r=(map(int,input().split()));m=eval(\"input().split(),\"*h)\n",
    "for n in range(min(h,w)//2):\n",
    " f,x,v=h-n-1,w-n,n+1;l=m[n][n:x]+[y[x-1]for y in m[v:f]]+([y[n]for y in m[v:f]]+m[f][n:x])[::-1];o=r%len(l);l,z=l[o:]+l[:o],x-v-n;m[n][n:x],m[f][n:x]=l[:x-n],l[f+z:h+2*z][::-1]\n",
    " for y in range(v,f):m[y][n],m[y][-v]=l[n-y],l[z+y]\n",
    "for y in m:print(*y)"
   ]
  },
  {
   "cell_type": "code",
   "execution_count": null,
   "metadata": {},
   "outputs": [],
   "source": []
  }
 ],
 "metadata": {
  "kernelspec": {
   "display_name": "Python 3",
   "language": "python",
   "name": "python3"
  },
  "language_info": {
   "codemirror_mode": {
    "name": "ipython",
    "version": 3
   },
   "file_extension": ".py",
   "mimetype": "text/x-python",
   "name": "python",
   "nbconvert_exporter": "python",
   "pygments_lexer": "ipython3",
   "version": "3.8.3"
  }
 },
 "nbformat": 4,
 "nbformat_minor": 4
}
