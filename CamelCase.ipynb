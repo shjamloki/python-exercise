{
 "cells": [
  {
   "cell_type": "code",
   "execution_count": 15,
   "metadata": {
    "scrolled": true
   },
   "outputs": [
    {
     "name": "stdout",
     "output_type": "stream",
     "text": [
      "1 2 2 3 4 5 6 7 8  9 \n"
     ]
    }
   ],
   "source": [
    "def solve(s):\n",
    "    test = s.split(\" \")\n",
    "    result = \"\"\n",
    "    for t in test:\n",
    "        for k in range(0,len(t)):\n",
    "            if(k==0):\n",
    "                result += t[k].upper()\n",
    "            else:\n",
    "                result += t[k]\n",
    "        result += \" \"\n",
    "    return result\n",
    "\n",
    "print(solve(\"1 2 2 3 4 5 6 7 8  9\"))"
   ]
  },
  {
   "cell_type": "code",
   "execution_count": 19,
   "metadata": {},
   "outputs": [
    {
     "name": "stdout",
     "output_type": "stream",
     "text": [
      "Alek Test\n"
     ]
    }
   ],
   "source": [
    "def solveAgain(s):\n",
    "    result = ' '.join(map(str.capitalize, s.split(' ')))\n",
    "    return result\n",
    "\n",
    "print(solveAgain(\"alek test\"))"
   ]
  },
  {
   "cell_type": "code",
   "execution_count": 21,
   "metadata": {},
   "outputs": [
    {
     "name": "stdout",
     "output_type": "stream",
     "text": [
      "Alek Test\n"
     ]
    }
   ],
   "source": [
    "import string\n",
    "def nextSolve(s):\n",
    "    return string.capwords(s,sep=' ')\n",
    "print(nextSolve(\"alek test\"))"
   ]
  },
  {
   "cell_type": "code",
   "execution_count": null,
   "metadata": {},
   "outputs": [],
   "source": []
  }
 ],
 "metadata": {
  "kernelspec": {
   "display_name": "Python 3",
   "language": "python",
   "name": "python3"
  },
  "language_info": {
   "codemirror_mode": {
    "name": "ipython",
    "version": 3
   },
   "file_extension": ".py",
   "mimetype": "text/x-python",
   "name": "python",
   "nbconvert_exporter": "python",
   "pygments_lexer": "ipython3",
   "version": "3.8.3"
  }
 },
 "nbformat": 4,
 "nbformat_minor": 4
}
