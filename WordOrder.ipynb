{
 "cells": [
  {
   "cell_type": "code",
   "execution_count": 21,
   "metadata": {},
   "outputs": [
    {
     "name": "stdout",
     "output_type": "stream",
     "text": [
      "4\n",
      "star\n",
      "test\n",
      "kid\n",
      "star\n",
      "3\n",
      "2 1 1 "
     ]
    }
   ],
   "source": [
    "from collections import Counter\n",
    "oD = OrderedDict()\n",
    "n = int(input())\n",
    "tstlst =\"\"\n",
    "for i in range(n):\n",
    "    tstlst += input()+\" \"\n",
    "\n",
    "countOd = Counter(list(tstlst.split()));\n",
    "print(len(countOd))\n",
    "for itm in countOd: \n",
    "    print (countOd[itm],end=\" \") \n"
   ]
  },
  {
   "cell_type": "code",
   "execution_count": 23,
   "metadata": {},
   "outputs": [
    {
     "name": "stdout",
     "output_type": "stream",
     "text": [
      "4\n",
      "star\n",
      "test\n",
      "kid\n",
      "star\n",
      "3\n",
      "2 1 1 "
     ]
    }
   ],
   "source": [
    "from collections import OrderedDict\n",
    "d = OrderedDict()\n",
    "for _ in range(int(input())):\n",
    "    word= input()\n",
    "    d[word] = d.get(word, 0) + 1\n",
    "print(len(d))\n",
    "for word, count in d.items():\n",
    "    print(count,end=\" \")"
   ]
  },
  {
   "cell_type": "code",
   "execution_count": null,
   "metadata": {},
   "outputs": [],
   "source": []
  }
 ],
 "metadata": {
  "kernelspec": {
   "display_name": "Python 3",
   "language": "python",
   "name": "python3"
  },
  "language_info": {
   "codemirror_mode": {
    "name": "ipython",
    "version": 3
   },
   "file_extension": ".py",
   "mimetype": "text/x-python",
   "name": "python",
   "nbconvert_exporter": "python",
   "pygments_lexer": "ipython3",
   "version": "3.8.3"
  }
 },
 "nbformat": 4,
 "nbformat_minor": 4
}
