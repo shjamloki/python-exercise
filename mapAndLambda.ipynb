{
 "cells": [
  {
   "cell_type": "code",
   "execution_count": 5,
   "metadata": {},
   "outputs": [
    {
     "name": "stdout",
     "output_type": "stream",
     "text": [
      "5\n",
      "[0, 1, 1, 8, 27, 125]\n"
     ]
    }
   ],
   "source": [
    "fn = [0,1]\n",
    "n =int(input())\n",
    " if(n ==0):\n",
    "        return []\n",
    "    if(n==1):\n",
    "        return [0]\n",
    "    if(n==2):\n",
    "        return [0,1]\n",
    "while(len(fn)<=n):\n",
    "    fn.append(fn[-1]+fn[-2])\n",
    "\n",
    "result = lambda a: a**3\n",
    "test =[]\n",
    "for i in fn:\n",
    "    test.append(result(i))\n",
    "print(test)\n",
    "    "
   ]
  },
  {
   "cell_type": "code",
   "execution_count": 7,
   "metadata": {},
   "outputs": [
    {
     "name": "stdout",
     "output_type": "stream",
     "text": [
      "3\n",
      "[0, 1, 1]\n"
     ]
    }
   ],
   "source": [
    "def fibonacci_mine(n):\n",
    "    fn = [0,1]\n",
    "    if(n ==0):\n",
    "        return []\n",
    "    if(n==1):\n",
    "        return [0]\n",
    "    if(n==2):\n",
    "        return [0,1]\n",
    "    while(len(fn)<n):\n",
    "        fn.append(fn[-1]+fn[-2])\n",
    "    return fn\n",
    "\n",
    "def fibonacci(n):\n",
    "     # return a list of fibonacci numbers\n",
    "     lis = [0,1]\n",
    "     for i in range(2,n):\n",
    "         lis.append(lis[i-2] + lis[i-1])\n",
    "     return(lis[0:n])\n",
    "\n",
    "cube = lambda x: x**3 \n",
    "\n",
    "if __name__ == '__main__':\n",
    "    n = int(input())\n",
    "    print(list(map(cube, fibonacci(n))))"
   ]
  },
  {
   "cell_type": "code",
   "execution_count": null,
   "metadata": {},
   "outputs": [],
   "source": []
  }
 ],
 "metadata": {
  "kernelspec": {
   "display_name": "Python 3",
   "language": "python",
   "name": "python3"
  },
  "language_info": {
   "codemirror_mode": {
    "name": "ipython",
    "version": 3
   },
   "file_extension": ".py",
   "mimetype": "text/x-python",
   "name": "python",
   "nbconvert_exporter": "python",
   "pygments_lexer": "ipython3",
   "version": "3.8.3"
  }
 },
 "nbformat": 4,
 "nbformat_minor": 4
}
