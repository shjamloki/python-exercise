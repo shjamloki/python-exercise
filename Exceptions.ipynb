{
 "cells": [
  {
   "cell_type": "code",
   "execution_count": 13,
   "metadata": {},
   "outputs": [
    {
     "name": "stdout",
     "output_type": "stream",
     "text": [
      "1\n",
      "1 -1\n",
      "-1.0\n"
     ]
    }
   ],
   "source": [
    "num = int(input())\n",
    "for i in range(num):\n",
    "    a,b = map(int,input().split())\n",
    "    try:\n",
    "        print(a/b)\n",
    "    except BaseException as t:\n",
    "        print (\"Error Code\",t)"
   ]
  },
  {
   "cell_type": "code",
   "execution_count": 14,
   "metadata": {},
   "outputs": [
    {
     "name": "stdout",
     "output_type": "stream",
     "text": [
      "1\n",
      "1 #\n",
      "Error Code: invalid literal for int() with base 10: '#'\n"
     ]
    }
   ],
   "source": [
    "for _ in range(int(input())):\n",
    "    a, b = input().split()\n",
    "    try:\n",
    "        print(int(a) // int(b))\n",
    "    except BaseException as err:\n",
    "        print(\"Error Code:\", err)"
   ]
  },
  {
   "cell_type": "code",
   "execution_count": null,
   "metadata": {},
   "outputs": [],
   "source": []
  }
 ],
 "metadata": {
  "kernelspec": {
   "display_name": "Python 3",
   "language": "python",
   "name": "python3"
  },
  "language_info": {
   "codemirror_mode": {
    "name": "ipython",
    "version": 3
   },
   "file_extension": ".py",
   "mimetype": "text/x-python",
   "name": "python",
   "nbconvert_exporter": "python",
   "pygments_lexer": "ipython3",
   "version": "3.8.3"
  }
 },
 "nbformat": 4,
 "nbformat_minor": 4
}
