{
 "cells": [
  {
   "cell_type": "code",
   "execution_count": 2,
   "metadata": {},
   "outputs": [
    {
     "name": "stdout",
     "output_type": "stream",
     "text": [
      "beabeefeab\n",
      "5\n"
     ]
    }
   ],
   "source": [
    "#In this challenge, you will be given a string. \n",
    "#You must remove characters until the string is \n",
    "#made up of any two alternating characters. When \n",
    "#you choose a character to remove, all instances \n",
    "#of that character must be removed. Your goal is \n",
    "#to create the longest string possible that contains just two alternating letters.\n",
    "\n",
    "\n",
    "from itertools import combinations\n",
    "#n = int(input())\n",
    "string = input()\n",
    "l = 0\n",
    "for i,j in combinations(list(set(string)),2):\n",
    "    s = [c for c in string if c==i or c==j]\n",
    "    length = len(s)\n",
    "    for char in range(length-1):\n",
    "        if s[char]==s[char+1]:break\n",
    "    else:\n",
    "        if length>l:l=length\n",
    "print(l)"
   ]
  },
  {
   "cell_type": "code",
   "execution_count": null,
   "metadata": {},
   "outputs": [],
   "source": []
  }
 ],
 "metadata": {
  "kernelspec": {
   "display_name": "Python 3",
   "language": "python",
   "name": "python3"
  },
  "language_info": {
   "codemirror_mode": {
    "name": "ipython",
    "version": 3
   },
   "file_extension": ".py",
   "mimetype": "text/x-python",
   "name": "python",
   "nbconvert_exporter": "python",
   "pygments_lexer": "ipython3",
   "version": "3.8.3"
  }
 },
 "nbformat": 4,
 "nbformat_minor": 4
}
