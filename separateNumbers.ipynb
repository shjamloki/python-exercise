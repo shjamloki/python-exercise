{
 "cells": [
  {
   "cell_type": "code",
   "execution_count": null,
   "metadata": {},
   "outputs": [
    {
     "name": "stdout",
     "output_type": "stream",
     "text": [
      "10\n",
      "00000000000000000\n",
      "NO\n",
      "1111111111111111\n",
      "NO\n",
      "10001100021000310004\n",
      "YES 10001\n",
      "99100101102\n",
      "YES 99\n",
      "101103\n",
      "NO\n",
      "10203\n",
      "NO\n",
      "010203\n",
      "NO\n",
      "999999910000000\n",
      "YES 9999999\n"
     ]
    }
   ],
   "source": [
    "for _ in range(int(input())):\n",
    "    s = input()\n",
    "    l = len(s)\n",
    "    for i in range(1, l//2 + 1):\n",
    "        check = s[:i]\n",
    "        add = int(check)\n",
    "        while check in s:\n",
    "            add += 1\n",
    "            check += f'{add}'\n",
    "            if check == s:\n",
    "                break\n",
    "        else:\n",
    "            continue\n",
    "        print('YES', s[:i])\n",
    "        break\n",
    "    else:\n",
    "        print('NO')"
   ]
  },
  {
   "cell_type": "code",
   "execution_count": null,
   "metadata": {},
   "outputs": [],
   "source": []
  }
 ],
 "metadata": {
  "kernelspec": {
   "display_name": "Python 3",
   "language": "python",
   "name": "python3"
  },
  "language_info": {
   "codemirror_mode": {
    "name": "ipython",
    "version": 3
   },
   "file_extension": ".py",
   "mimetype": "text/x-python",
   "name": "python",
   "nbconvert_exporter": "python",
   "pygments_lexer": "ipython3",
   "version": "3.8.3"
  }
 },
 "nbformat": 4,
 "nbformat_minor": 4
}
