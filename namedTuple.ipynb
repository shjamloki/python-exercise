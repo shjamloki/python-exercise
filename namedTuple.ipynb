{
 "cells": [
  {
   "cell_type": "code",
   "execution_count": 12,
   "metadata": {},
   "outputs": [
    {
     "name": "stdout",
     "output_type": "stream",
     "text": [
      "1\n",
      "ID CLASS NAME MARKS\n",
      "['ID', 'CLASS', 'NAME', 'MARKS']\n",
      "1 test shailesh 100\n",
      "dictval is  {'ID': '1', 'CLASS': 'test', 'NAME': 'shailesh', 'MARKS': '100'}\n",
      "100.0\n"
     ]
    }
   ],
   "source": [
    "from collections import namedtuple\n",
    "n = int(input())\n",
    "header = list(input().split())\n",
    "print(header)\n",
    "total = 0;\n",
    "for i in range(n):\n",
    "    listval = list(input().split())\n",
    "    dicVal = dict(zip(header,listval))\n",
    "    print(\"dictval is \",dicVal)\n",
    "    total +=int(dicVal['MARKS'])\n",
    "print(total/n)"
   ]
  },
  {
   "cell_type": "code",
   "execution_count": null,
   "metadata": {},
   "outputs": [],
   "source": [
    "from collections import namedtuple\n",
    "\n",
    "N = int(input())\n",
    "fields = input().split()\n",
    "\n",
    "total = 0\n",
    "for i in range(N):\n",
    "    students = namedtuple('student',fields)\n",
    "    field1, field2, field3,field4 = input().split()\n",
    "    student = students(field1,field2,field3,field4)\n",
    "    total += int(student.MARKS)\n",
    "print('{:.2f}'.format(total/N))"
   ]
  }
 ],
 "metadata": {
  "kernelspec": {
   "display_name": "Python 3",
   "language": "python",
   "name": "python3"
  },
  "language_info": {
   "codemirror_mode": {
    "name": "ipython",
    "version": 3
   },
   "file_extension": ".py",
   "mimetype": "text/x-python",
   "name": "python",
   "nbconvert_exporter": "python",
   "pygments_lexer": "ipython3",
   "version": "3.8.3"
  }
 },
 "nbformat": 4,
 "nbformat_minor": 4
}
