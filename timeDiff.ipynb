{
 "cells": [
  {
   "cell_type": "code",
   "execution_count": 3,
   "metadata": {},
   "outputs": [
    {
     "name": "stdout",
     "output_type": "stream",
     "text": [
      "Sun 10 May 2015 13:54:36 -0700\n",
      "Sun 10 May 2015 13:54:36 -0000\n",
      "25200\n"
     ]
    }
   ],
   "source": [
    "from datetime import datetime as dt\n",
    "def time_delta():\n",
    "    fmt = '%a %d %b %Y %H:%M:%S %z'\n",
    "    t1 = input()\n",
    "    t2 = input()\n",
    "    print(int(abs((dt.strptime(t1, fmt) - \n",
    "                   dt.strptime(t2, fmt)).total_seconds())))\n",
    "time_delta()"
   ]
  },
  {
   "cell_type": "code",
   "execution_count": 5,
   "metadata": {},
   "outputs": [
    {
     "name": "stdout",
     "output_type": "stream",
     "text": [
      "1\n",
      "Sun 10 May 2015 13:54:36 -0700\n",
      "Sun 10 May 2015 13:54:36 -0000\n",
      "25200\n"
     ]
    }
   ],
   "source": [
    "from dateutil import parser\n",
    "\n",
    "for _ in range(int(input())):\n",
    "    d1 = parser.parse(input().strip())\n",
    "    d2 = parser.parse(input().strip())\n",
    "    print(abs(int((d2-d1).total_seconds())))"
   ]
  },
  {
   "cell_type": "code",
   "execution_count": null,
   "metadata": {},
   "outputs": [],
   "source": []
  }
 ],
 "metadata": {
  "kernelspec": {
   "display_name": "Python 3",
   "language": "python",
   "name": "python3"
  },
  "language_info": {
   "codemirror_mode": {
    "name": "ipython",
    "version": 3
   },
   "file_extension": ".py",
   "mimetype": "text/x-python",
   "name": "python",
   "nbconvert_exporter": "python",
   "pygments_lexer": "ipython3",
   "version": "3.8.3"
  }
 },
 "nbformat": 4,
 "nbformat_minor": 4
}
