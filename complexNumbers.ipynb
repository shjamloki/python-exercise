{
 "cells": [
  {
   "cell_type": "code",
   "execution_count": 8,
   "metadata": {},
   "outputs": [
    {
     "name": "stdout",
     "output_type": "stream",
     "text": [
      "2 1\n",
      "5 6\n",
      "(7+7j)\n",
      "(-3-5j)\n",
      "(4+17j)\n",
      "(0.26229508196721313-0.11475409836065571j)\n"
     ]
    }
   ],
   "source": [
    "a,b = map(int,input().split())\n",
    "firstComplex = complex(a,b)\n",
    "c,d= map(int,input().split())\n",
    "secondComplex = complex(c,d)\n",
    "print(firstComplex + secondComplex)\n",
    "print(firstComplex - secondComplex)\n",
    "print(firstComplex * secondComplex)\n",
    "print(firstComplex / secondComplex)\n",
    "#print(firstComplex.mod(secondComplex))\n",
    "#print(secondComplex.mod(firstComplex))"
   ]
  },
  {
   "cell_type": "code",
   "execution_count": 18,
   "metadata": {},
   "outputs": [
    {
     "name": "stdout",
     "output_type": "stream",
     "text": [
      "1 2\n",
      "5 6\n",
      "6.00+8.00i\n",
      "-4.00-4.00i\n",
      "-7.00+16.00i\n",
      "0.28+0.07i\n",
      "2.24+0.00i\n",
      "7.81+0.00i\n"
     ]
    }
   ],
   "source": [
    "class Complex(object):\n",
    "    def __init__(self, real, imaginary):\n",
    "        self.real = real\n",
    "        self.imaginary = imaginary\n",
    "\n",
    "    def __add__(self, no):\n",
    "        a = complex(self.real, self.imaginary)\n",
    "        b = complex(no.real, no.imaginary)\n",
    "        return Complex((a+b).real , (a+b).imag).__str__()\n",
    "        \n",
    "    def __sub__(self, no):\n",
    "        a = complex(self.real, self.imaginary)\n",
    "        b = complex(no.real, no.imaginary)\n",
    "        return Complex((a-b).real , (a-b).imag).__str__()\n",
    "        \n",
    "    def __mul__(self, no):\n",
    "        a = complex(self.real, self.imaginary)\n",
    "        b = complex(no.real, no.imaginary)\n",
    "        return Complex((a*b).real , (a*b).imag).__str__()\n",
    "\n",
    "    def __truediv__(self, no):\n",
    "        a = complex(self.real, self.imaginary)\n",
    "        b = complex(no.real, no.imaginary)\n",
    "        return Complex((a/b).real , (a/b).imag).__str__()\n",
    "\n",
    "    def mod(self):\n",
    "        return Complex(abs(complex(self.real, self.imaginary)), 0)\n",
    "\n",
    "    def __str__(self):\n",
    "        if self.imaginary == 0:\n",
    "            result = \"%.2f+0.00i\" % (self.real)\n",
    "        elif self.real == 0:\n",
    "            if self.imaginary >= 0:\n",
    "                result = \"0.00+%.2fi\" % (self.imaginary)\n",
    "            else:\n",
    "                result = \"0.00-%.2fi\" % (abs(self.imaginary))\n",
    "        elif self.imaginary > 0:\n",
    "            result = \"%.2f+%.2fi\" % (self.real, self.imaginary)\n",
    "        else:\n",
    "            result = \"%.2f-%.2fi\" % (self.real, abs(self.imaginary))\n",
    "        return result\n",
    "\n",
    "if __name__ == '__main__':\n",
    "    c = map(float, input().split())\n",
    "    d = map(float, input().split())\n",
    "    x = Complex(*c)\n",
    "    y = Complex(*d)\n",
    "    print(*map(str, [x+y, x-y, x*y, x/y, x.mod(), y.mod()]), sep='\\n')"
   ]
  },
  {
   "cell_type": "markdown",
   "metadata": {},
   "source": []
  }
 ],
 "metadata": {
  "kernelspec": {
   "display_name": "Python 3",
   "language": "python",
   "name": "python3"
  },
  "language_info": {
   "codemirror_mode": {
    "name": "ipython",
    "version": 3
   },
   "file_extension": ".py",
   "mimetype": "text/x-python",
   "name": "python",
   "nbconvert_exporter": "python",
   "pygments_lexer": "ipython3",
   "version": "3.8.3"
  }
 },
 "nbformat": 4,
 "nbformat_minor": 4
}
