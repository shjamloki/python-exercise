{
 "cells": [
  {
   "cell_type": "code",
   "execution_count": 8,
   "metadata": {},
   "outputs": [
    {
     "name": "stdout",
     "output_type": "stream",
     "text": [
      "4\n",
      "1 2 3 4\n",
      "2\n",
      "remove 1\n",
      "discard 2\n",
      "7\n"
     ]
    }
   ],
   "source": [
    "n = int(input())\n",
    "nList = set(map(int,input().split()))\n",
    "N = int(input())\n",
    "for i in range(N):\n",
    "    s = input().split()\n",
    "    if(s[0]=='pop'):\n",
    "        nList.pop()\n",
    "    elif(s[0]=='remove'):\n",
    "        nList.remove(int(s[1]))\n",
    "    elif(s[0]=='discard'):\n",
    "        nList.discard(int(s[1]))\n",
    "print(sum(nList))"
   ]
  },
  {
   "cell_type": "code",
   "execution_count": null,
   "metadata": {},
   "outputs": [],
   "source": []
  }
 ],
 "metadata": {
  "kernelspec": {
   "display_name": "Python 3",
   "language": "python",
   "name": "python3"
  },
  "language_info": {
   "codemirror_mode": {
    "name": "ipython",
    "version": 3
   },
   "file_extension": ".py",
   "mimetype": "text/x-python",
   "name": "python",
   "nbconvert_exporter": "python",
   "pygments_lexer": "ipython3",
   "version": "3.8.3"
  }
 },
 "nbformat": 4,
 "nbformat_minor": 4
}
