{
 "cells": [
  {
   "cell_type": "code",
   "execution_count": 17,
   "metadata": {},
   "outputs": [
    {
     "name": "stdout",
     "output_type": "stream",
     "text": [
      "1\n",
      "2\n",
      "1 2\n",
      "3\n",
      "3 2 1\n",
      "False\n"
     ]
    }
   ],
   "source": [
    "for i in range(int(input())):\n",
    "    _,fs=int(input()),set(map(int,input().split()))\n",
    "    _,ss=int(input()),set(map(int,input().split()))\n",
    "    #print((len(fs.difference(ss))) ==0) # first\n",
    "    #print(fs.issubset(ss)) #second\n",
    "    #print(fs.intersection(ss) == fs) #third\n",
    "    #print(fs <= ss) #fourth\n",
    "    #print(all([i in fs for i in ss]))  -- not working but can"
   ]
  },
  {
   "cell_type": "code",
   "execution_count": null,
   "metadata": {},
   "outputs": [],
   "source": []
  }
 ],
 "metadata": {
  "kernelspec": {
   "display_name": "Python 3",
   "language": "python",
   "name": "python3"
  },
  "language_info": {
   "codemirror_mode": {
    "name": "ipython",
    "version": 3
   },
   "file_extension": ".py",
   "mimetype": "text/x-python",
   "name": "python",
   "nbconvert_exporter": "python",
   "pygments_lexer": "ipython3",
   "version": "3.8.3"
  }
 },
 "nbformat": 4,
 "nbformat_minor": 4
}
