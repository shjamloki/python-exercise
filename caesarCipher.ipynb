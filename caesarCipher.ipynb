{
 "cells": [
  {
   "cell_type": "code",
   "execution_count": 4,
   "metadata": {},
   "outputs": [
    {
     "name": "stdout",
     "output_type": "stream",
     "text": [
      "qkffng-Qwvb\n"
     ]
    }
   ],
   "source": [
    "abc = \"abcdefghijklmnopqrstuvwxyz\"\n",
    "pos = {c: i for i, c in enumerate(abc)}\n",
    "\n",
    "ciphered = []\n",
    "for c in s:\n",
    "    cl = c.lower()\n",
    "    if cl in abc:\n",
    "        new_ind = (pos[cl] + k) % 26\n",
    "        cipher_letter = abc[new_ind] if c.islower() else abc[new_ind].upper()\n",
    "        ciphered.append(cipher_letter)\n",
    "    else:\n",
    "        ciphered.append(c)\n",
    "        \n",
    "print(\"\".join(ciphered))"
   ]
  },
  {
   "cell_type": "code",
   "execution_count": null,
   "metadata": {},
   "outputs": [],
   "source": []
  }
 ],
 "metadata": {
  "kernelspec": {
   "display_name": "Python 3",
   "language": "python",
   "name": "python3"
  },
  "language_info": {
   "codemirror_mode": {
    "name": "ipython",
    "version": 3
   },
   "file_extension": ".py",
   "mimetype": "text/x-python",
   "name": "python",
   "nbconvert_exporter": "python",
   "pygments_lexer": "ipython3",
   "version": "3.8.3"
  }
 },
 "nbformat": 4,
 "nbformat_minor": 4
}
