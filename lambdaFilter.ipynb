{
 "cells": [
  {
   "cell_type": "markdown",
   "metadata": {},
   "source": [
    "Lambda Filter Examples"
   ]
  },
  {
   "cell_type": "code",
   "execution_count": 1,
   "metadata": {},
   "outputs": [],
   "source": [
    "l = list(range(10))"
   ]
  },
  {
   "cell_type": "code",
   "execution_count": 2,
   "metadata": {},
   "outputs": [
    {
     "data": {
      "text/plain": [
       "[0, 1, 2, 3, 4, 5, 6, 7, 8, 9]"
      ]
     },
     "execution_count": 2,
     "metadata": {},
     "output_type": "execute_result"
    }
   ],
   "source": [
    "l"
   ]
  },
  {
   "cell_type": "code",
   "execution_count": 3,
   "metadata": {},
   "outputs": [],
   "source": [
    "l = list(map(lambda x:x*x, l))"
   ]
  },
  {
   "cell_type": "code",
   "execution_count": 4,
   "metadata": {},
   "outputs": [
    {
     "data": {
      "text/plain": [
       "[0, 1, 4, 9, 16, 25, 36, 49, 64, 81]"
      ]
     },
     "execution_count": 4,
     "metadata": {},
     "output_type": "execute_result"
    }
   ],
   "source": [
    "l"
   ]
  },
  {
   "cell_type": "code",
   "execution_count": 5,
   "metadata": {},
   "outputs": [],
   "source": [
    "l = list(filter(lambda x: x > 10 and x < 80, l))"
   ]
  },
  {
   "cell_type": "code",
   "execution_count": 6,
   "metadata": {},
   "outputs": [
    {
     "data": {
      "text/plain": [
       "[16, 25, 36, 49, 64]"
      ]
     },
     "execution_count": 6,
     "metadata": {},
     "output_type": "execute_result"
    }
   ],
   "source": [
    "l"
   ]
  },
  {
   "cell_type": "markdown",
   "metadata": {},
   "source": [
    "Actual Problem now\n",
    "\n",
    "You are given an N integer followed by N\n",
    "\n",
    "email addresses. Your task is to print a list containing only valid email addresses in lexicographical order.\n",
    "\n",
    "Valid email addresses must follow these rules:\n",
    "\n",
    "    * It must have the username@websitename.extension format type.\n",
    "    * The username can only contain letters, digits, dashes and underscores.\n",
    "    * The website name can only have letters and digits.\n",
    "    * The maximum length of the extension is "
   ]
  },
  {
   "cell_type": "markdown",
   "metadata": {},
   "source": [
    "**Sample Input**\n",
    "\n",
    "3<br>\n",
    "lara@hackerrank.com<br>\n",
    "brian-23@hackerrank.com<br>\n",
    "britts_54@hackerrank.com<br>\n",
    "\n",
    "\n",
    "**Sample Output**<br>\n",
    "['brian-23@hackerrank.com', 'britts_54@hackerrank.com', 'lara@hackerrank.com']"
   ]
  },
  {
   "cell_type": "code",
   "execution_count": 27,
   "metadata": {},
   "outputs": [
    {
     "name": "stdout",
     "output_type": "stream",
     "text": [
      "1\n",
      "sat@sat.com\n",
      "['', 'at']\n"
     ]
    }
   ],
   "source": [
    "import re\n",
    "def isValidUser(user):\n",
    "    print(re.split(r\"^[0-9,a-z,A-Z,-,_]\",user))\n",
    "    if(len(re.split(r\"^[0-9,a-z,A-Z,-,_]\",user)) > 1):\n",
    "        return False\n",
    "    else:\n",
    "        return True\n",
    "    \n",
    "for _ in range(int(input())):\n",
    "    test = re.split(r\"\\@|\\.\",input())\n",
    "    if(len(test) != 3):\n",
    "        break;\n",
    "    if(isValidUser(test[0])):\n",
    "        print(test[0])\n",
    "    \n"
   ]
  },
  {
   "cell_type": "markdown",
   "metadata": {},
   "source": [
    "**solution without Regular expression**"
   ]
  },
  {
   "cell_type": "code",
   "execution_count": 28,
   "metadata": {},
   "outputs": [
    {
     "name": "stdout",
     "output_type": "stream",
     "text": [
      "2\n",
      "sat@sat.com\n",
      "p*rn@test.com\n",
      "['sat@sat.com']\n"
     ]
    }
   ],
   "source": [
    "def check_valid(email):\n",
    "    try:\n",
    "        username, url = email.split(\"@\")\n",
    "        website, extension = url.split(\".\")\n",
    "    except ValueError:\n",
    "        return False\n",
    "    \n",
    "    if username.replace(\"-\", \"\").replace(\"_\", \"\").isalnum() is False:\n",
    "        return False\n",
    "    elif website.isalnum() is False:\n",
    "        return False\n",
    "    elif len(extension) > 3:\n",
    "        return False\n",
    "    else:\n",
    "        return True\n",
    "\n",
    "n = int(input())\n",
    "emails = [input() for email in range(n)]\n",
    "\n",
    "valid = list(filter(check_valid, emails))\n",
    "print(sorted(valid))"
   ]
  },
  {
   "cell_type": "markdown",
   "metadata": {},
   "source": [
    "**with Regular expression 1**"
   ]
  },
  {
   "cell_type": "code",
   "execution_count": 29,
   "metadata": {},
   "outputs": [
    {
     "name": "stdout",
     "output_type": "stream",
     "text": [
      "2\n",
      "sat@test.com\n",
      "test#12@test.com\n",
      "['sat@test.com']\n"
     ]
    }
   ],
   "source": [
    "import re\n",
    "\n",
    "\n",
    "addr = re.compile(\n",
    "    '''^\n",
    "    [\\w-]{1,}           #username\n",
    "    @[a-zA-Z0-9]{1,}    #websitename\n",
    "    \\.\\w{1,3}           #extension\n",
    "    $''', re.UNICODE | re.VERBOSE)\n",
    "\n",
    "print(sorted(filter(addr.search, (input() for _ in range(int(input()))))))"
   ]
  },
  {
   "cell_type": "markdown",
   "metadata": {},
   "source": [
    "best use of Filters without RE"
   ]
  },
  {
   "cell_type": "code",
   "execution_count": 30,
   "metadata": {},
   "outputs": [
    {
     "name": "stdout",
     "output_type": "stream",
     "text": [
      "2\n",
      "sat@sat.com\n",
      "test@tester.coom\n",
      "[]\n"
     ]
    }
   ],
   "source": [
    "def fun(s):\n",
    "    try:\n",
    "        username = s[:s.index('@')]\n",
    "        website = s[s.index('@') + 1:s.index('.')]\n",
    "        extension = s[s.index('.') + 1:]\n",
    "    except ValueError as e:\n",
    "        return False\n",
    "    if any(map(lambda x: len(x) == 0, [username, website, extension])): return False\n",
    "    return all([len(extension) <= 3, \n",
    "                website == filter(lambda ch: ch.isalnum(), website),\n",
    "                username == filter(lambda ch: ch.isalnum() or ch in '-_', username)])\n",
    "\n",
    "def filter_mail(emails):\n",
    "    return list(filter(fun, emails))\n",
    "\n",
    "n = int(input())\n",
    "emails = [input() for email in range(n)]\n",
    "\n",
    "valid = list(filter(fun, emails))\n",
    "print(sorted(valid))"
   ]
  },
  {
   "cell_type": "code",
   "execution_count": 31,
   "metadata": {},
   "outputs": [
    {
     "name": "stdout",
     "output_type": "stream",
     "text": [
      "2\n",
      "sat@in.com\n",
      "test@s.comm\n",
      "['sat@in.com']\n"
     ]
    }
   ],
   "source": [
    "import re\n",
    "def fun(s):\n",
    "  return (True if re.match('[a-zA-Z0-9_-]+@[a-zA-Z0-9]+\\.[a-zA-Z]{1,3}$',s) is not None else False)\n",
    "\n",
    "def filter_mail(emails):\n",
    "    return list(filter(fun, emails))\n",
    "\n",
    "if __name__ == '__main__':\n",
    "    n = int(input())\n",
    "    emails = []\n",
    "    for _ in range(n):\n",
    "        emails.append(input())\n",
    "\n",
    "filtered_emails = filter_mail(emails)\n",
    "filtered_emails.sort()\n",
    "print(filtered_emails)"
   ]
  },
  {
   "cell_type": "code",
   "execution_count": null,
   "metadata": {},
   "outputs": [],
   "source": []
  }
 ],
 "metadata": {
  "kernelspec": {
   "display_name": "Python 3",
   "language": "python",
   "name": "python3"
  },
  "language_info": {
   "codemirror_mode": {
    "name": "ipython",
    "version": 3
   },
   "file_extension": ".py",
   "mimetype": "text/x-python",
   "name": "python",
   "nbconvert_exporter": "python",
   "pygments_lexer": "ipython3",
   "version": "3.8.3"
  }
 },
 "nbformat": 4,
 "nbformat_minor": 4
}
