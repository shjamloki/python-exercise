{
 "cells": [
  {
   "cell_type": "code",
   "execution_count": 4,
   "metadata": {},
   "outputs": [
    {
     "name": "stdout",
     "output_type": "stream",
     "text": [
      "2\n"
     ]
    }
   ],
   "source": [
    "if __name__ == '__main__':\n",
    "    N = int(input())"
   ]
  },
  {
   "cell_type": "code",
   "execution_count": 7,
   "metadata": {},
   "outputs": [
    {
     "name": "stdout",
     "output_type": "stream",
     "text": [
      "insert 0 1\n",
      "insert\n",
      "print\n",
      "['1']\n",
      "print\n"
     ]
    }
   ],
   "source": [
    "for p in range(N):\n",
    "    test = input().split()\n",
    "    if(test[0] == 'insert'):\n",
    "        index = int(test[1])\n",
    "        val = int(test[2])\n",
    "        my_list.insert(index,val)\n",
    "    elif (test[0] == 'remove'):\n",
    "        index = int(test[1])\n",
    "        my_list.remove(index)\n",
    "    elif (test[0] == 'sort'):\n",
    "        my_list.sort()               \n",
    "    elif(test[0] == 'append'):\n",
    "        val = int(test[1])\n",
    "        my_list.append(val)\n",
    "    elif(test[0] == 'pop'):\n",
    "        my_list.pop()\n",
    "    elif( test[0] == 'print'):\n",
    "        print (my_list)\n",
    "    elif (test[0] == 'reverse'):\n",
    "        my_list.reverse() "
   ]
  },
  {
   "cell_type": "code",
   "execution_count": null,
   "metadata": {},
   "outputs": [],
   "source": []
  }
 ],
 "metadata": {
  "kernelspec": {
   "display_name": "Python 3",
   "language": "python",
   "name": "python3"
  },
  "language_info": {
   "codemirror_mode": {
    "name": "ipython",
    "version": 3
   },
   "file_extension": ".py",
   "mimetype": "text/x-python",
   "name": "python",
   "nbconvert_exporter": "python",
   "pygments_lexer": "ipython3",
   "version": "3.8.3"
  }
 },
 "nbformat": 4,
 "nbformat_minor": 4
}
