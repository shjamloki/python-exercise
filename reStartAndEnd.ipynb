{
 "cells": [
  {
   "cell_type": "code",
   "execution_count": 9,
   "metadata": {},
   "outputs": [
    {
     "name": "stdout",
     "output_type": "stream",
     "text": [
      "aabcdeffgabcdef\n",
      "abcdef\n",
      "(1,6)\n",
      "(9,14)\n"
     ]
    }
   ],
   "source": [
    "import re\n",
    "s = input()\n",
    "k = input()\n",
    "pattern = re.compile(k)\n",
    "m = pattern.search(s)\n",
    "if not m: print(\"(-1, -1)\")\n",
    "while(m):\n",
    "    print(\"({0},{1})\".format(m.start(),m.end()-1))\n",
    "    m = pattern.search(s,m.start()+1)"
   ]
  },
  {
   "cell_type": "code",
   "execution_count": 10,
   "metadata": {},
   "outputs": [
    {
     "name": "stdout",
     "output_type": "stream",
     "text": [
      "aabcdeffgabcdef\n",
      "abcdef\n",
      "(1, 6)\n",
      "(9, 14)\n"
     ]
    }
   ],
   "source": [
    "S = input()\n",
    "k = input()\n",
    "import re\n",
    "pattern = re.compile(k)\n",
    "r = pattern.search(S)\n",
    "if not r: print (\"(-1, -1)\")\n",
    "while r:\n",
    "    print (\"({0}, {1})\".format(r.start(), r.end() - 1))\n",
    "    r = pattern.search(S,r.start() + 1)"
   ]
  },
  {
   "cell_type": "code",
   "execution_count": 12,
   "metadata": {},
   "outputs": [
    {
     "name": "stdout",
     "output_type": "stream",
     "text": [
      "aabcdeffgabcdef\n",
      "abcdef\n",
      "(1,6)\n",
      "(9,14)\n"
     ]
    }
   ],
   "source": [
    "p = input()\n",
    "q = input()\n",
    "import re\n",
    "pat = re.compile(q)\n",
    "m = pat.search(p)\n",
    "if not m: print(\"(-1,-1)\")\n",
    "while (m):\n",
    "    print(\"({0},{1})\".format(m.start(),m.end()-1))\n",
    "    m = pattern.search(p,m.start()+1)"
   ]
  },
  {
   "cell_type": "code",
   "execution_count": null,
   "metadata": {},
   "outputs": [],
   "source": []
  }
 ],
 "metadata": {
  "kernelspec": {
   "display_name": "Python 3",
   "language": "python",
   "name": "python3"
  },
  "language_info": {
   "codemirror_mode": {
    "name": "ipython",
    "version": 3
   },
   "file_extension": ".py",
   "mimetype": "text/x-python",
   "name": "python",
   "nbconvert_exporter": "python",
   "pygments_lexer": "ipython3",
   "version": "3.8.3"
  }
 },
 "nbformat": 4,
 "nbformat_minor": 4
}
