{
 "cells": [
  {
   "cell_type": "code",
   "execution_count": 1,
   "metadata": {},
   "outputs": [
    {
     "name": "stdout",
     "output_type": "stream",
     "text": [
      "We promptly judged antique ivory buckles for the next prize\n",
      "pangram\n"
     ]
    }
   ],
   "source": [
    "from collections import Counter\n",
    "#pangram is a string which has all chars of english alphabet including space\n",
    "print(\"pangram\" if len(Counter(input().lower())) == 27 else \"not pangram\")"
   ]
  },
  {
   "cell_type": "code",
   "execution_count": 3,
   "metadata": {},
   "outputs": [
    {
     "name": "stdout",
     "output_type": "stream",
     "text": [
      "We promptly judged antique ivory buckles for the next prize\n",
      "pangram\n"
     ]
    }
   ],
   "source": [
    "print('pangram' if len(set(str.lower(input()))) == 27 else 'not pangram')"
   ]
  },
  {
   "cell_type": "code",
   "execution_count": 4,
   "metadata": {},
   "outputs": [
    {
     "name": "stdout",
     "output_type": "stream",
     "text": [
      "We promptly judged antique ivory buckles for the next prize\n",
      "pangram\n"
     ]
    }
   ],
   "source": [
    "print('pangram' if set([ord(letter) for letter in ''.join(input().lower().strip().split())]) == set(list(range(97, 123))) else 'not pangram')"
   ]
  },
  {
   "cell_type": "code",
   "execution_count": 5,
   "metadata": {},
   "outputs": [
    {
     "name": "stdout",
     "output_type": "stream",
     "text": [
      "We promptly judged antique ivory buckles for the next prize\n",
      "pangram\n"
     ]
    }
   ],
   "source": [
    "import string; print('pangram') if not set(string.ascii_lowercase) - set(input().lower()) else print('not pangram')"
   ]
  },
  {
   "cell_type": "code",
   "execution_count": 6,
   "metadata": {},
   "outputs": [],
   "source": [
    "def pangrams(arg: str) -> bool:\n",
    "    return len(set([c for c in arg.lower() if c.isalpha()])) == 26"
   ]
  },
  {
   "cell_type": "code",
   "execution_count": 17,
   "metadata": {},
   "outputs": [
    {
     "name": "stdout",
     "output_type": "stream",
     "text": [
      "abcdefghijk lmnopqrstuvwxyza\n",
      "true\n"
     ]
    }
   ],
   "source": [
    "import re\n",
    "#pat = r'(?!.*(.).*\\1).{26}'\n",
    "pat =r\"(?=.*a)(?=.*b)(?=.*c)(?=.*d)(?=.*e)(?=.*f)(?=.*g)(?=.*h)(?=.*i)(?=.*j)(?=.*k)(?=.*l)(?=.*m)(?=.*n)(?=.*o)(?=.*p)(?=.*q)(?=.*r)(?=.*s)(?=.*t)(?=.*u)(?=.*v)(?=.*w)(?=.*x)(?=.*y)(?=.*z).*\"\n",
    "m = re.match(pat,input(),re.I)\n",
    "if(m):\n",
    "    print(\"true\")\n",
    "else:\n",
    "    print(\"false\")"
   ]
  },
  {
   "cell_type": "code",
   "execution_count": 12,
   "metadata": {},
   "outputs": [],
   "source": [
    "import re\n",
    "s = \"We promptly judged antique ivory buckles for the next prize\"\n",
    "m = re.match(r'(.)(?=.*\\\\1)',s)\n",
    "if(m):\n",
    "    print(m.group(1))"
   ]
  },
  {
   "cell_type": "code",
   "execution_count": null,
   "metadata": {},
   "outputs": [],
   "source": []
  }
 ],
 "metadata": {
  "kernelspec": {
   "display_name": "Python 3",
   "language": "python",
   "name": "python3"
  },
  "language_info": {
   "codemirror_mode": {
    "name": "ipython",
    "version": 3
   },
   "file_extension": ".py",
   "mimetype": "text/x-python",
   "name": "python",
   "nbconvert_exporter": "python",
   "pygments_lexer": "ipython3",
   "version": "3.8.3"
  }
 },
 "nbformat": 4,
 "nbformat_minor": 4
}
