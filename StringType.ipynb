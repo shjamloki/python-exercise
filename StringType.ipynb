{
 "cells": [
  {
   "cell_type": "code",
   "execution_count": 1,
   "metadata": {},
   "outputs": [
    {
     "name": "stdout",
     "output_type": "stream",
     "text": [
      "qA2\n",
      "True\n",
      "True\n",
      "True\n",
      "True\n",
      "True\n"
     ]
    }
   ],
   "source": [
    "if __name__ == '__main__':\n",
    "    s = input()\n",
    "hasNum = False\n",
    "hasChar = False\n",
    "isAnyLower = False\n",
    "isAnyUpper = False;\n",
    "#qA2\n",
    "for i in s:    \n",
    "    if(i.isdigit() and not hasNum):\n",
    "        hasNum = True\n",
    "    if (i.isalpha() and not hasChar):\n",
    "        hasChar=True\n",
    "    if (i.isalpha() and i.islower() and not isAnyLower):\n",
    "        isAnyLower = True\n",
    "    if (i.isalpha() and i.isupper() and not isAnyUpper):\n",
    "        isAnyUpper = True;\n",
    "if (hasNum or hasChar):\n",
    "    print (True) \n",
    "else :\n",
    "    print(False)\n",
    "print(hasChar)\n",
    "print(hasNum)\n",
    "print(isAnyLower)\n",
    "print(isAnyUpper)"
   ]
  },
  {
   "cell_type": "code",
   "execution_count": 2,
   "metadata": {},
   "outputs": [
    {
     "name": "stdout",
     "output_type": "stream",
     "text": [
      "qA2\n",
      "True\n",
      "True\n",
      "True\n",
      "True\n",
      "True\n"
     ]
    }
   ],
   "source": [
    "s = input()\n",
    "print(any(c.isalnum() for c in s))\n",
    "print(any(c.isalpha() for c in s))\n",
    "print(any(c.isdigit() for c in s))\n",
    "print(any(c.islower() for c in s))\n",
    "print(any(c.isupper() for c in s))"
   ]
  },
  {
   "cell_type": "code",
   "execution_count": null,
   "metadata": {},
   "outputs": [],
   "source": []
  }
 ],
 "metadata": {
  "kernelspec": {
   "display_name": "Python 3",
   "language": "python",
   "name": "python3"
  },
  "language_info": {
   "codemirror_mode": {
    "name": "ipython",
    "version": 3
   },
   "file_extension": ".py",
   "mimetype": "text/x-python",
   "name": "python",
   "nbconvert_exporter": "python",
   "pygments_lexer": "ipython3",
   "version": "3.8.3"
  }
 },
 "nbformat": 4,
 "nbformat_minor": 4
}
