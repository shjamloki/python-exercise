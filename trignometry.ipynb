{
 "cells": [
  {
   "cell_type": "code",
   "execution_count": null,
   "metadata": {},
   "outputs": [],
   "source": [
    "#ABC is a right triangle 90 degree, at B.\n",
    "#Therefore angle of ABC is 90 degree.\n",
    "#Point M is the midpoint of hypotenuse AC\n",
    "#You are given the lengths AB and BC.\n",
    "#Your task is to find (angle MBC, as shown in the figure) in degrees.\n",
    "\n",
    "#We can Solve this problem by using a property: \n",
    "#** That a median on the hypotenuse divides the right angled triangle in two isoceles triangle\n",
    "\n",
    "import math \n",
    "AB = int(input()) \n",
    "BC = int(input()) \n",
    "print (str(int(round(math.degrees(math.atan2(AB,BC)))))+'°')"
   ]
  }
 ],
 "metadata": {
  "kernelspec": {
   "display_name": "Python 3",
   "language": "python",
   "name": "python3"
  },
  "language_info": {
   "codemirror_mode": {
    "name": "ipython",
    "version": 3
   },
   "file_extension": ".py",
   "mimetype": "text/x-python",
   "name": "python",
   "nbconvert_exporter": "python",
   "pygments_lexer": "ipython3",
   "version": "3.8.3"
  }
 },
 "nbformat": 4,
 "nbformat_minor": 4
}
