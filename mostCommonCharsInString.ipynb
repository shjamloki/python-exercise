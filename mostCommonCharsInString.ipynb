{
 "cells": [
  {
   "cell_type": "code",
   "execution_count": 34,
   "metadata": {},
   "outputs": [
    {
     "name": "stdout",
     "output_type": "stream",
     "text": [
      "aabbbccde\n",
      "d 1\n",
      "e 1\n",
      "a 2\n"
     ]
    }
   ],
   "source": [
    "#Use Counter to get a count of occurances of each letter, (and seems to be sorted by letter) \n",
    "#-  (-c[1],c[0]) => sort, via lambda function, first by second column (number), in reverse  (- sign there is reversing), \n",
    "#and then by letter (for all tuples having the same number value) \n",
    "#- specify only the first three item in the list of tuples via [:3]\n",
    "\n",
    "from collections import Counter\n",
    "chars = Counter(input()).items()\n",
    "#print(chars)\n",
    "for char, n in sorted(chars, key=lambda c: (-c[1], c[0]))[:3]:\n",
    "    print(char, n)"
   ]
  },
  {
   "cell_type": "code",
   "execution_count": 28,
   "metadata": {},
   "outputs": [
    {
     "name": "stdout",
     "output_type": "stream",
     "text": [
      "aabbbccde\n",
      "b 3\n",
      "a 2\n",
      "c 2\n"
     ]
    },
    {
     "data": {
      "text/plain": [
       "[None, None, None]"
      ]
     },
     "execution_count": 28,
     "metadata": {},
     "output_type": "execute_result"
    }
   ],
   "source": [
    "from collections import Counter, OrderedDict\n",
    "\n",
    "class OrderedCounter(Counter, OrderedDict):\n",
    "    pass\n",
    "[print(*c) for c in OrderedCounter(sorted(input())).most_common(3)]"
   ]
  },
  {
   "cell_type": "code",
   "execution_count": null,
   "metadata": {},
   "outputs": [],
   "source": []
  }
 ],
 "metadata": {
  "kernelspec": {
   "display_name": "Python 3",
   "language": "python",
   "name": "python3"
  },
  "language_info": {
   "codemirror_mode": {
    "name": "ipython",
    "version": 3
   },
   "file_extension": ".py",
   "mimetype": "text/x-python",
   "name": "python",
   "nbconvert_exporter": "python",
   "pygments_lexer": "ipython3",
   "version": "3.8.3"
  }
 },
 "nbformat": 4,
 "nbformat_minor": 4
}
