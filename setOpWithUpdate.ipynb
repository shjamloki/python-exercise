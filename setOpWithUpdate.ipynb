{
 "cells": [
  {
   "cell_type": "code",
   "execution_count": 15,
   "metadata": {},
   "outputs": [
    {
     "name": "stdout",
     "output_type": "stream",
     "text": [
      "1\n",
      "1 2\n",
      "4\n",
      "inter 1\n",
      "2 3\n",
      "{2, 3}\n",
      "1\n",
      "diff 2\n",
      "3 1\n",
      "{1, 3}\n",
      "1\n",
      "sym 1\n",
      "1 1\n",
      "{1}\n",
      "2\n",
      "update 2\n",
      "4 5\n",
      "{4, 5}\n",
      "4\n"
     ]
    }
   ],
   "source": [
    "n = int(input())\n",
    "se = set(map(int,input().split()))\n",
    "o = int(input())\n",
    "for i in range(o):\n",
    "    strs = input()\n",
    "    st=set(map(int,input().split()))\n",
    "    if(strs.startswith(\"inter\")):\n",
    "        se.intersection_update(st)\n",
    "    elif(strs.startswith(\"diff\")):\n",
    "        se.difference_update(st)\n",
    "    elif(strs.startswith(\"update\")):\n",
    "        se.update(st)\n",
    "    elif(strs.startswith(\"sym\")):\n",
    "        se.symmetric_difference_update(st)\n",
    "print(sum(se))"
   ]
  },
  {
   "cell_type": "code",
   "execution_count": null,
   "metadata": {},
   "outputs": [],
   "source": []
  }
 ],
 "metadata": {
  "kernelspec": {
   "display_name": "Python 3",
   "language": "python",
   "name": "python3"
  },
  "language_info": {
   "codemirror_mode": {
    "name": "ipython",
    "version": 3
   },
   "file_extension": ".py",
   "mimetype": "text/x-python",
   "name": "python",
   "nbconvert_exporter": "python",
   "pygments_lexer": "ipython3",
   "version": "3.8.3"
  }
 },
 "nbformat": 4,
 "nbformat_minor": 4
}
