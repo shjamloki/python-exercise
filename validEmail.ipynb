{
 "cells": [
  {
   "cell_type": "code",
   "execution_count": 29,
   "metadata": {},
   "outputs": [
    {
     "name": "stdout",
     "output_type": "stream",
     "text": [
      "1\n",
      "vineet <vineet@gmail,com>\n"
     ]
    }
   ],
   "source": [
    "import re\n",
    "for _ in range(int(input())):\n",
    "    email = input()\n",
    "    m = re.search(r'.*<[a-zA-Z][\\w\\-,\\._]*@([a-zA-Z])+\\.[a-zA-Z]{1,3}>',email)\n",
    "    if(m):\n",
    "        print(\"----->\"+email)\n",
    "#crap <itsallcrap>\n",
    "#harsh <harsh_1234@rediff.in>\n",
    "#kumal <kunal_shin@iop.az>\n",
    "#mattp <matt23@@india.in>\n",
    "#harsh <.harsh_1234@rediff.in>\n",
    "#harsh <-harsh_1234@rediff.in>\n",
    "\n",
    "#vin <vineet@>\n",
    "#vineet <vineet@gmail.com> --->\n",
    "#vineet <vineet@gma.il.co.m>\n",
    "#vineet <vineet@gma-il.co-m>\n",
    "#vineet <vineet@gma,il.co@m>\n",
    "#vineet <vineet@gmail,com>\n",
    "#vineet <.vin@gmail.com>\n",
    "#vineet <vin-nii@gmail.com> -->\n",
    "#vineet <v__i_n-n_ii@gmail.com> -->"
   ]
  },
  {
   "cell_type": "code",
   "execution_count": null,
   "metadata": {},
   "outputs": [],
   "source": []
  }
 ],
 "metadata": {
  "kernelspec": {
   "display_name": "Python 3",
   "language": "python",
   "name": "python3"
  },
  "language_info": {
   "codemirror_mode": {
    "name": "ipython",
    "version": 3
   },
   "file_extension": ".py",
   "mimetype": "text/x-python",
   "name": "python",
   "nbconvert_exporter": "python",
   "pygments_lexer": "ipython3",
   "version": "3.8.3"
  }
 },
 "nbformat": 4,
 "nbformat_minor": 4
}
