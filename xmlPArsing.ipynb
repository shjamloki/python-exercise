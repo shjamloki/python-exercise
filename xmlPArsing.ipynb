{
 "cells": [
  {
   "cell_type": "code",
   "execution_count": 2,
   "metadata": {},
   "outputs": [
    {
     "name": "stdout",
     "output_type": "stream",
     "text": [
      "6\n",
      "<feed xml:lang='en'>\n",
      "<title>HackerRank</title>\n",
      "<subtitle lang='en'>Programming challenges</subtitle>\n",
      "<link rel='alternate' type='text/html' href='http://hackerrank.com/'/>\n",
      "<updated>2013-12-25T12:00:00</updated>\n",
      "</feed>\n",
      "5\n"
     ]
    }
   ],
   "source": [
    "# Find all atributes of xml\n",
    "import sys\n",
    "import xml.etree.ElementTree as etree\n",
    "\n",
    "def get_attr_number(node):\n",
    "    # your code goes here\n",
    "    return sum([len(elem.items()) for elem in tree.iter()])\n",
    "\n",
    "xml = ''.join(input() for _ in range(int(input())))\n",
    "tree = etree.ElementTree(etree.fromstring(xml))\n",
    "print(get_attr_number(tree))\n",
    "\n",
    "#input\n",
    "#6\n",
    "#<feed xml:lang='en'>\n",
    "#    <title>HackerRank</title>\n",
    "#    <subtitle lang='en'>Programming challenges</subtitle>\n",
    "#    <link rel='alternate' type='text/html' href='http://hackerrank.com/'/>\n",
    "#    <updated>2013-12-25T12:00:00</updated>\n",
    "#</feed>\n",
    "\n",
    "#output : 5"
   ]
  },
  {
   "cell_type": "code",
   "execution_count": null,
   "metadata": {},
   "outputs": [],
   "source": []
  }
 ],
 "metadata": {
  "kernelspec": {
   "display_name": "Python 3",
   "language": "python",
   "name": "python3"
  },
  "language_info": {
   "codemirror_mode": {
    "name": "ipython",
    "version": 3
   },
   "file_extension": ".py",
   "mimetype": "text/x-python",
   "name": "python",
   "nbconvert_exporter": "python",
   "pygments_lexer": "ipython3",
   "version": "3.8.3"
  }
 },
 "nbformat": 4,
 "nbformat_minor": 4
}
