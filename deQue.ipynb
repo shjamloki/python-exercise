{
 "cells": [
  {
   "cell_type": "code",
   "execution_count": 4,
   "metadata": {},
   "outputs": [
    {
     "name": "stdout",
     "output_type": "stream",
     "text": [
      "2\n",
      "append 1\n",
      "extend 23\n",
      "1 2 3\n"
     ]
    }
   ],
   "source": [
    "from collections import deque\n",
    "q = deque()\n",
    "for i in range(int(input())):\n",
    "    s = input().split()\n",
    "    if(s[0] == 'append'):\n",
    "        q.append(s[1])\n",
    "    elif(s[0]=='pop'):\n",
    "        q.pop()\n",
    "    elif(s[0]=='remove'):\n",
    "        q.remove(s[1])\n",
    "    elif(s[0]=='extend'):\n",
    "        q.extend(s[1])\n",
    "    elif(s[0]=='clear'):\n",
    "        q.clear()\n",
    "    elif(s[0]=='appendleft'):\n",
    "        q.appendleft(s[1])\n",
    "    elif(s[0]=='extendleft'):\n",
    "        q.extendleft(s[1])\n",
    "    elif(s[0]=='popleft'):\n",
    "        q.popleft()\n",
    "print(*q)"
   ]
  },
  {
   "cell_type": "code",
   "execution_count": null,
   "metadata": {},
   "outputs": [],
   "source": []
  }
 ],
 "metadata": {
  "kernelspec": {
   "display_name": "Python 3",
   "language": "python",
   "name": "python3"
  },
  "language_info": {
   "codemirror_mode": {
    "name": "ipython",
    "version": 3
   },
   "file_extension": ".py",
   "mimetype": "text/x-python",
   "name": "python",
   "nbconvert_exporter": "python",
   "pygments_lexer": "ipython3",
   "version": "3.8.3"
  }
 },
 "nbformat": 4,
 "nbformat_minor": 4
}
