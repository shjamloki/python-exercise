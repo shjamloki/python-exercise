{
 "cells": [
  {
   "cell_type": "code",
   "execution_count": 18,
   "metadata": {},
   "outputs": [
    {
     "name": "stdout",
     "output_type": "stream",
     "text": [
      "-1-5j\n",
      "-1\n",
      "-5\n",
      "5.0990195135927845\n",
      "-1.7681918866447774\n"
     ]
    }
   ],
   "source": [
    "import cmath\n",
    "s = input()\n",
    "end = s.find(\"+\")\n",
    "isMinus = False\n",
    "if (end == -1):\n",
    "    isMinus= True\n",
    "    end = s[1:].find(\"-\")+1\n",
    "x = int(s[0:end])\n",
    "if(isMinus):\n",
    "    y = int(s[end:len(s)-1])\n",
    "else:\n",
    "    y = int(s[end+1:len(s)-1])\n",
    "print(x)\n",
    "print(y)\n",
    "print(abs(complex(x,y)))\n",
    "print(cmath.phase(complex(x,y)))\n",
    "#    5.09901951359\n",
    "#    -1.76819188664"
   ]
  },
  {
   "cell_type": "code",
   "execution_count": 19,
   "metadata": {},
   "outputs": [
    {
     "name": "stdout",
     "output_type": "stream",
     "text": [
      "-1-5j\n",
      "5.0990195135927845\n",
      "-1.7681918866447774\n"
     ]
    }
   ],
   "source": [
    "import cmath\n",
    "print(*cmath.polar(complex(input())), sep='\\n')"
   ]
  },
  {
   "cell_type": "code",
   "execution_count": null,
   "metadata": {},
   "outputs": [],
   "source": []
  }
 ],
 "metadata": {
  "kernelspec": {
   "display_name": "Python 3",
   "language": "python",
   "name": "python3"
  },
  "language_info": {
   "codemirror_mode": {
    "name": "ipython",
    "version": 3
   },
   "file_extension": ".py",
   "mimetype": "text/x-python",
   "name": "python",
   "nbconvert_exporter": "python",
   "pygments_lexer": "ipython3",
   "version": "3.8.3"
  }
 },
 "nbformat": 4,
 "nbformat_minor": 4
}
