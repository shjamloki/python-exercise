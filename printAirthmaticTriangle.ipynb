{
 "cells": [
  {
   "cell_type": "code",
   "execution_count": 41,
   "metadata": {},
   "outputs": [
    {
     "name": "stdout",
     "output_type": "stream",
     "text": [
      "5\n",
      "1\n",
      "22\n",
      "333\n",
      "4444\n"
     ]
    }
   ],
   "source": [
    "for i in range(1,int(input())):\n",
    "    print((((10**i)-1)//9)*i)"
   ]
  },
  {
   "cell_type": "code",
   "execution_count": 38,
   "metadata": {},
   "outputs": [
    {
     "name": "stdout",
     "output_type": "stream",
     "text": [
      "3\n",
      "i is  0\n",
      "test 10\n",
      "ntest  1\n",
      "==============\n",
      "i is  1\n",
      "test 100\n",
      "ntest  11\n",
      "==============\n"
     ]
    }
   ],
   "source": [
    "for i in range(int(input())-1):\n",
    "    #print(\"i is \",i)\n",
    "    #test = (10**(i+1))\n",
    "    #print(\"test\",test)\n",
    "    #ntest = (test-1)//9\n",
    "    #print(\"ntest \",ntest)\n",
    "    #print(\"==============\")\n",
    "    #val = (((10**(i+1))-1)//9)\n",
    "    #print(val)\n",
    "    #print(((val*(i+1))"
   ]
  },
  {
   "cell_type": "code",
   "execution_count": 37,
   "metadata": {},
   "outputs": [
    {
     "name": "stdout",
     "output_type": "stream",
     "text": [
      "3\n",
      "hello\n",
      "hello\n",
      "hello\n"
     ]
    }
   ],
   "source": [
    "for i in range (int(input())):\n",
    "    print(\"hello\")"
   ]
  },
  {
   "cell_type": "code",
   "execution_count": null,
   "metadata": {},
   "outputs": [],
   "source": []
  }
 ],
 "metadata": {
  "kernelspec": {
   "display_name": "Python 3",
   "language": "python",
   "name": "python3"
  },
  "language_info": {
   "codemirror_mode": {
    "name": "ipython",
    "version": 3
   },
   "file_extension": ".py",
   "mimetype": "text/x-python",
   "name": "python",
   "nbconvert_exporter": "python",
   "pygments_lexer": "ipython3",
   "version": "3.8.3"
  }
 },
 "nbformat": 4,
 "nbformat_minor": 4
}
