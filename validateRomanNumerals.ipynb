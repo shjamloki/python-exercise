{
 "cells": [
  {
   "cell_type": "code",
   "execution_count": 2,
   "metadata": {},
   "outputs": [
    {
     "name": "stdout",
     "output_type": "stream",
     "text": [
      "MMMCMXCIXC\n",
      "False\n"
     ]
    }
   ],
   "source": [
    "thousand = 'M{0,3}'\n",
    "hundred = '(C[MD]|D?C{0,3})'\n",
    "ten = '(X[CL]|L?X{0,3})'\n",
    "digit = '(I[VX]|V?I{0,3})'\n",
    "#print (bool(re.match(thousand + hundred+ten+digit +'$', input())))\n",
    "regex_pattern = thousand + hundred+ten+digit +'$'\t# Do not delete 'r'.\n",
    "#3999=MMMCMXCIX\n",
    "#3950=MMMCML\n",
    "#3899=MMMDCCCXCIX\n",
    "#3850=MMMDCCCL\n",
    "\n",
    "import re\n",
    "print(str(bool(re.match(regex_pattern, input()))))"
   ]
  },
  {
   "cell_type": "code",
   "execution_count": 4,
   "metadata": {},
   "outputs": [
    {
     "name": "stdout",
     "output_type": "stream",
     "text": [
      "MMMCMXCIX\n",
      "True\n"
     ]
    }
   ],
   "source": [
    "regex_pattern= \\\n",
    "'(?:M|MM|MMM)?(?:C|CC|CCC|CD|D|DC|DCC|DCCC|CM)?(?:X|XX|XXX|XL|L|LX|LXX|LXXX|XC)?(?:I|II|III|IV|V|VI|VII|VIII|IX)?$'\n",
    "\n",
    "import re\n",
    "print(str(bool(re.match(regex_pattern, input()))))"
   ]
  },
  {
   "cell_type": "code",
   "execution_count": null,
   "metadata": {},
   "outputs": [
    {
     "name": "stdout",
     "output_type": "stream",
     "text": [
      "10\n",
      "XXX\n",
      "False\n",
      "XIV\n",
      "False\n",
      "XI\n",
      "False\n"
     ]
    }
   ],
   "source": [
    "#I II III IV V VI VII VIII IX\n",
    "ones = 'I{0,1}V{0,3}I{0,3}X?$'\n",
    "import re\n",
    "for _ in range(int(input())):\n",
    "    print(str(bool(re.match(ones, input()))))"
   ]
  },
  {
   "cell_type": "code",
   "execution_count": null,
   "metadata": {},
   "outputs": [],
   "source": []
  }
 ],
 "metadata": {
  "kernelspec": {
   "display_name": "Python 3",
   "language": "python",
   "name": "python3"
  },
  "language_info": {
   "codemirror_mode": {
    "name": "ipython",
    "version": 3
   },
   "file_extension": ".py",
   "mimetype": "text/x-python",
   "name": "python",
   "nbconvert_exporter": "python",
   "pygments_lexer": "ipython3",
   "version": "3.8.3"
  }
 },
 "nbformat": 4,
 "nbformat_minor": 4
}
