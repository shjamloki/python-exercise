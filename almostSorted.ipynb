{
 "cells": [
  {
   "cell_type": "code",
   "execution_count": 4,
   "metadata": {},
   "outputs": [
    {
     "data": {
      "text/plain": [
       "'yes\\nreverse 2 5'"
      ]
     },
     "execution_count": 4,
     "metadata": {},
     "output_type": "execute_result"
    }
   ],
   "source": [
    "def almostSorted(arr):\n",
    "    arr = list(arr)\n",
    "    if arr == sorted(arr):\n",
    "        return \"yes\"\n",
    "    i = 0\n",
    "    fix = []\n",
    "    for a,b in zip(arr,sorted(arr)):\n",
    "        if a != b:\n",
    "            fix.append((a,i))\n",
    "        i += 1\n",
    "    if len(fix) == 2:\n",
    "        test = arr\n",
    "        test[fix[0][1]] = fix[1][0]\n",
    "        test[fix[1][1]] = fix[0][0]\n",
    "        if test == sorted(arr):\n",
    "            return \"yes\\nswap \" + str(fix[0][1] + 1) + \" \" + str(fix[1][1] + 1)\n",
    "    begin,end = fix[0][1], fix[-1][1]\n",
    "    if arr[:begin] + arr[begin:end + 1][::-1] + arr[end+1:] == sorted(arr):\n",
    "        return \"yes\\nreverse \"+ str(begin+1) + \" \" + str(end + 1)\n",
    "    return \"no\"\n",
    "\n",
    "arr = [1,5,4,3,2,6]\n",
    "almostSorted(arr)\n"
   ]
  },
  {
   "cell_type": "code",
   "execution_count": 3,
   "metadata": {},
   "outputs": [
    {
     "data": {
      "text/plain": [
       "'yes\\nswap 3 4'"
      ]
     },
     "execution_count": 3,
     "metadata": {},
     "output_type": "execute_result"
    }
   ],
   "source": [
    "arr = [2,3,5,4]\n",
    "almostSorted(arr)"
   ]
  },
  {
   "cell_type": "code",
   "execution_count": null,
   "metadata": {},
   "outputs": [],
   "source": []
  }
 ],
 "metadata": {
  "kernelspec": {
   "display_name": "Python 3",
   "language": "python",
   "name": "python3"
  },
  "language_info": {
   "codemirror_mode": {
    "name": "ipython",
    "version": 3
   },
   "file_extension": ".py",
   "mimetype": "text/x-python",
   "name": "python",
   "nbconvert_exporter": "python",
   "pygments_lexer": "ipython3",
   "version": "3.8.3"
  }
 },
 "nbformat": 4,
 "nbformat_minor": 4
}
