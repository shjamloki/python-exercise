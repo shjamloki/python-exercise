{
 "cells": [
  {
   "cell_type": "code",
   "execution_count": 1,
   "metadata": {},
   "outputs": [
    {
     "name": "stdout",
     "output_type": "stream",
     "text": [
      "Elapsed time : 3.478863000869751\n"
     ]
    }
   ],
   "source": [
    "from time import time\n",
    "\n",
    "\n",
    "def factorial(n):\n",
    "    num = 1\n",
    "    while n >= 1:\n",
    "        num = num * n\n",
    "        n = n - 1\n",
    "    return num\n",
    "\n",
    "t0 = time()\n",
    "factorial(10**5)\n",
    "print('Elapsed time :', time() - t0 )"
   ]
  },
  {
   "cell_type": "code",
   "execution_count": 2,
   "metadata": {},
   "outputs": [
    {
     "name": "stdout",
     "output_type": "stream",
     "text": [
      "Elapsed time : 3.434961589000004\n"
     ]
    }
   ],
   "source": [
    "import timeit\n",
    "\n",
    "\n",
    "def factorial(n):\n",
    "    num = 1\n",
    "    while n >= 1:\n",
    "        num = num * n\n",
    "        n = n - 1\n",
    "    return num\n",
    "\n",
    "t0 = timeit.default_timer()\n",
    "factorial(10**5)\n",
    "print('Elapsed time :', timeit.default_timer() - t0 )"
   ]
  },
  {
   "cell_type": "code",
   "execution_count": 3,
   "metadata": {},
   "outputs": [
    {
     "name": "stdout",
     "output_type": "stream",
     "text": [
      "         4 function calls in 3.442 seconds\n",
      "\n",
      "   Ordered by: standard name\n",
      "\n",
      "   ncalls  tottime  percall  cumtime  percall filename:lineno(function)\n",
      "        1    3.442    3.442    3.442    3.442 <ipython-input-3-ecdcfd9b2243>:4(factorial)\n",
      "        1    0.000    0.000    3.442    3.442 <string>:1(<module>)\n",
      "        1    0.000    0.000    3.442    3.442 {built-in method builtins.exec}\n",
      "        1    0.000    0.000    0.000    0.000 {method 'disable' of '_lsprof.Profiler' objects}\n",
      "\n",
      "\n"
     ]
    }
   ],
   "source": [
    "import cProfile\n",
    "\n",
    "#cpuprofile\n",
    "def factorial(n):\n",
    "    num = 1\n",
    "    while n >= 1:\n",
    "        num = num * n\n",
    "        n = n - 1\n",
    "    return num\n",
    "\n",
    "cProfile.run('factorial(10**5)')"
   ]
  },
  {
   "cell_type": "code",
   "execution_count": null,
   "metadata": {},
   "outputs": [],
   "source": []
  }
 ],
 "metadata": {
  "kernelspec": {
   "display_name": "Python 3",
   "language": "python",
   "name": "python3"
  },
  "language_info": {
   "codemirror_mode": {
    "name": "ipython",
    "version": 3
   },
   "file_extension": ".py",
   "mimetype": "text/x-python",
   "name": "python",
   "nbconvert_exporter": "python",
   "pygments_lexer": "ipython3",
   "version": "3.8.3"
  }
 },
 "nbformat": 4,
 "nbformat_minor": 4
}
