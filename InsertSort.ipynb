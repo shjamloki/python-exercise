{
 "cells": [
  {
   "cell_type": "code",
   "execution_count": 1,
   "metadata": {},
   "outputs": [
    {
     "name": "stdout",
     "output_type": "stream",
     "text": [
      "3 4 7 5 6 2 1\n",
      "3 4 7 5 6 2 1\n",
      "3 4 5 7 6 2 1\n",
      "3 4 5 6 7 2 1\n",
      "2 3 4 5 6 7 1\n",
      "1 2 3 4 5 6 7\n"
     ]
    }
   ],
   "source": [
    "def insertionSort2(n, arr):\n",
    "    for i in range(1,n):\n",
    "        for j in range(i):\n",
    "            if arr[i]<arr[j]:\n",
    "                arr[i],arr[j]=arr[j],arr[i]\n",
    "            else:\n",
    "                continue\n",
    "        print(*arr)\n",
    "insertionSort2(7,[3,4,7,5,6,2,1])"
   ]
  },
  {
   "cell_type": "code",
   "execution_count": 2,
   "metadata": {},
   "outputs": [
    {
     "name": "stdout",
     "output_type": "stream",
     "text": [
      "3 4 7 5 6 2 1\n",
      "3 4 7 5 6 2 1\n",
      "3 4 5 7 6 2 1\n",
      "3 4 5 6 7 2 1\n",
      "2 3 4 5 6 7 1\n",
      "1 2 3 4 5 6 7\n"
     ]
    }
   ],
   "source": [
    "def insertionSort2_1(n, arr):\n",
    "    for i in range(1,n):\n",
    "        key = arr[i]\n",
    "        j = i-1\n",
    "        while j>=0 and key < arr[j]:\n",
    "            arr[j+1] = arr[j]\n",
    "            j -= 1\n",
    "        arr[j+1] = key\n",
    "        print(*arr)\n",
    "insertionSort2_1(7,[3,4,7,5,6,2,1])"
   ]
  },
  {
   "cell_type": "code",
   "execution_count": 3,
   "metadata": {},
   "outputs": [
    {
     "name": "stdout",
     "output_type": "stream",
     "text": [
      "7\n",
      "3 4 7 5 6 2 1\n",
      "3 4 7 5 6 2 1\n",
      "3 4 7 5 6 2 1\n",
      "3 4 5 7 6 2 1\n",
      "3 4 5 6 7 2 1\n",
      "2 3 4 5 6 7 1\n",
      "1 2 3 4 5 6 7\n"
     ]
    },
    {
     "data": {
      "text/plain": [
       "('7', None)"
      ]
     },
     "execution_count": 3,
     "metadata": {},
     "output_type": "execute_result"
    }
   ],
   "source": [
    "def insertion_sort(a):\n",
    "\tfor i in range(1, len(a)):\n",
    "\t\tj = i\n",
    "\t\twhile(j > 0 and a[j] < a[j - 1]):\n",
    "\t\t\ta[j], a[j - 1] = a[j - 1], a[j]\n",
    "\t\t\tj -= 1\n",
    "\t\tprint(*a)\n",
    "\n",
    "input(), insertion_sort([int(i) for i in input().split()])"
   ]
  },
  {
   "cell_type": "code",
   "execution_count": null,
   "metadata": {},
   "outputs": [],
   "source": []
  }
 ],
 "metadata": {
  "kernelspec": {
   "display_name": "Python 3",
   "language": "python",
   "name": "python3"
  },
  "language_info": {
   "codemirror_mode": {
    "name": "ipython",
    "version": 3
   },
   "file_extension": ".py",
   "mimetype": "text/x-python",
   "name": "python",
   "nbconvert_exporter": "python",
   "pygments_lexer": "ipython3",
   "version": "3.8.3"
  }
 },
 "nbformat": 4,
 "nbformat_minor": 4
}
