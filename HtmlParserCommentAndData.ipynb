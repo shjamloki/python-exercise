{
 "cells": [
  {
   "cell_type": "code",
   "execution_count": 4,
   "metadata": {},
   "outputs": [
    {
     "name": "stdout",
     "output_type": "stream",
     "text": [
      "4\n",
      "<!--[if IE 9]>IE9-specific content\n",
      "<![endif]-->\n",
      "<div> Welcome to HackerRank</div>\n",
      "<!--[if IE 9]>IE9-specific content<![endif]-->\n",
      ">>>Single-line Comment\n",
      "Comment  : [if IE 9]>IE9-specific content<![endif]\n",
      "Start : div\n",
      ">>> Data\n",
      " Welcome to HackerRank\n",
      "End   : div\n",
      ">>>Single-line Comment\n",
      "Comment  : [if IE 9]>IE9-specific content<![endif]\n"
     ]
    }
   ],
   "source": [
    "from html.parser import HTMLParser\n",
    "\n",
    "class MyHTMLParser(HTMLParser):\n",
    "    def handle_starttag(self, tag, attrs):        \n",
    "        print ('Start :',tag)\n",
    "        for ele in attrs:\n",
    "            print ('->',ele[0],'>',ele[1])\n",
    "            \n",
    "    def handle_endtag(self, tag):\n",
    "        print ('End   :',tag)\n",
    "        \n",
    "    def handle_startendtag(self, tag, attrs):\n",
    "        print ('Empty :',tag)\n",
    "        for ele in attrs:\n",
    "            print ('->',ele[0],'>',ele[1])\n",
    "    def handle_comment(self, data):\n",
    "        if(\"\\n\" in data):\n",
    "            print(\">>>Multi-line Comment\")\n",
    "        else:\n",
    "            print(\">>>Single-line Comment\")\n",
    "        if(data.strip()):\n",
    "            print(\"Comment  :\", data)\n",
    "    def handle_data(self, data):\n",
    "        if data.strip():\n",
    "            print(\">>> Data\")\n",
    "            print(data)\n",
    "            \n",
    "MyParser = MyHTMLParser()\n",
    "MyParser.feed(''.join([input().strip() for _ in range(int(input()))]))\n",
    "\n",
    "#4\n",
    "#<!--[if IE 9]>IE9-specific content\n",
    "#<![endif]-->\n",
    "#<div> Welcome to HackerRank</div>\n",
    "#<!--[if IE 9]>IE9-specific content<![endif]-->\n",
    "\n",
    "#sample output:\n",
    "#>>> Multi-line Comment\n",
    "#[if IE 9]>IE9-specific content\n",
    "#<![endif]\n",
    "#>>> Data\n",
    "# Welcome to HackerRank\n",
    "#>>> Single-line Comment\n",
    "#[if IE 9]>IE9-specific content<![endif]"
   ]
  },
  {
   "cell_type": "code",
   "execution_count": 5,
   "metadata": {},
   "outputs": [],
   "source": [
    "class MyHTMLParser(HTMLParser):\n",
    "    def handle_comment(self, comment):\n",
    "        if '\\n' in comment:\n",
    "            print('>>> Multi-line Comment')\n",
    "        else:\n",
    "            print('>>> Single-line Comment')\n",
    "            \n",
    "        print(comment)\n",
    "    \n",
    "    def handle_data(self, data):\n",
    "        if data == '\\n': return\n",
    "        print('>>> Data')\n",
    "        print(data)"
   ]
  },
  {
   "cell_type": "code",
   "execution_count": null,
   "metadata": {},
   "outputs": [],
   "source": []
  }
 ],
 "metadata": {
  "kernelspec": {
   "display_name": "Python 3",
   "language": "python",
   "name": "python3"
  },
  "language_info": {
   "codemirror_mode": {
    "name": "ipython",
    "version": 3
   },
   "file_extension": ".py",
   "mimetype": "text/x-python",
   "name": "python",
   "nbconvert_exporter": "python",
   "pygments_lexer": "ipython3",
   "version": "3.8.3"
  }
 },
 "nbformat": 4,
 "nbformat_minor": 4
}
