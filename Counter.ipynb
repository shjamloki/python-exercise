{
 "cells": [
  {
   "cell_type": "code",
   "execution_count": 12,
   "metadata": {},
   "outputs": [
    {
     "name": "stdout",
     "output_type": "stream",
     "text": [
      "4\n",
      "1 1 1 2\n",
      "Counter({1: 3, 2: 1})\n",
      "3\n",
      "1 20\n",
      "found match for shoe size demanded 1\n",
      "Counter({1: 2, 2: 1})\n",
      "2 30\n",
      "found match for shoe size demanded 2\n",
      "Counter({1: 2, 2: 0})\n",
      "3 20\n",
      "50\n"
     ]
    }
   ],
   "source": [
    "from collections import Counter\n",
    "N = int(input())\n",
    "dicShoes = Counter(list(map(int,input().split())))\n",
    "earning =0\n",
    "M = int(input())\n",
    "for i in range(0,M):\n",
    "    custDemand = list(map(int,input().split()))\n",
    "    if((custDemand[0] in dicShoes)):\n",
    "        if(dicShoes[custDemand[0]]):\n",
    "            dicShoes[custDemand[0]] -= 1\n",
    "            earning +=custDemand[1]\n",
    "print(earning)"
   ]
  },
  {
   "cell_type": "code",
   "execution_count": null,
   "metadata": {},
   "outputs": [],
   "source": []
  }
 ],
 "metadata": {
  "kernelspec": {
   "display_name": "Python 3",
   "language": "python",
   "name": "python3"
  },
  "language_info": {
   "codemirror_mode": {
    "name": "ipython",
    "version": 3
   },
   "file_extension": ".py",
   "mimetype": "text/x-python",
   "name": "python",
   "nbconvert_exporter": "python",
   "pygments_lexer": "ipython3",
   "version": "3.8.3"
  }
 },
 "nbformat": 4,
 "nbformat_minor": 4
}
