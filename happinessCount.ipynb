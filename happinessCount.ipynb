{
 "cells": [
  {
   "cell_type": "code",
   "execution_count": 5,
   "metadata": {},
   "outputs": [
    {
     "name": "stdout",
     "output_type": "stream",
     "text": [
      "3 2\n",
      "1 5 3\n",
      "3 1\n",
      "5 7\n",
      "1\n"
     ]
    }
   ],
   "source": [
    "n,m = input().split()\n",
    "narr = list(map(int,input().split()))\n",
    "like = list(map(int,input().split()))\n",
    "dislike= list(map(int,input().split()))\n",
    "print(sum((i in like) - (i in dislike) for i in narr))\n",
    "        "
   ]
  },
  {
   "cell_type": "code",
   "execution_count": 6,
   "metadata": {},
   "outputs": [
    {
     "name": "stdout",
     "output_type": "stream",
     "text": [
      "3 2\n",
      "1 5 3\n",
      "3 1\n",
      "5 7\n",
      "1\n"
     ]
    }
   ],
   "source": [
    "n, m = input().split()\n",
    "arr = [int(x) for x in input().split()]\n",
    "A = set([int(y) for y in input().split()])\n",
    "B = set([int(z) for z in input().split()])\n",
    "count = [0 + 1 if x in A else 0-1 if x in B else 0 + 0 for x in arr]\n",
    "print(sum(count))"
   ]
  },
  {
   "cell_type": "code",
   "execution_count": 7,
   "metadata": {},
   "outputs": [
    {
     "name": "stdout",
     "output_type": "stream",
     "text": [
      "3 2\n",
      "1 5 3\n",
      "3 1\n",
      "5 7\n",
      "1\n"
     ]
    }
   ],
   "source": [
    "a=input().split(' ')\n",
    "l=([int(i) for i in input().split(' ')])\n",
    "firstset=set([int(i) for i in input().split(' ')])\n",
    "secondset=set([int(i) for i in input().split(' ')])\n",
    "p=0\n",
    "for i in l:\n",
    "    if i in firstset:\n",
    "        p+=1\n",
    "    if i in secondset:\n",
    "        p-=1\n",
    "print(p)"
   ]
  },
  {
   "cell_type": "code",
   "execution_count": null,
   "metadata": {},
   "outputs": [
    {
     "name": "stdout",
     "output_type": "stream",
     "text": [
      "3 2\n",
      "1 5 3\n",
      "Counter({1: 1, 5: 1, 3: 1})\n"
     ]
    }
   ],
   "source": [
    "from collections import Counter\n",
    "if __name__ == '__main__':\n",
    "    n = input()\n",
    "    I =Counter(map(int, input().split()))\n",
    "    print(I)\n",
    "    A = set(map(int, input().split()))\n",
    "    B = set(map(int, input().split()))\n",
    "    print(sum([I[x]*((x in A) - (x in B)) for x in I.keys()]))"
   ]
  },
  {
   "cell_type": "code",
   "execution_count": null,
   "metadata": {},
   "outputs": [],
   "source": []
  }
 ],
 "metadata": {
  "kernelspec": {
   "display_name": "Python 3",
   "language": "python",
   "name": "python3"
  },
  "language_info": {
   "codemirror_mode": {
    "name": "ipython",
    "version": 3
   },
   "file_extension": ".py",
   "mimetype": "text/x-python",
   "name": "python",
   "nbconvert_exporter": "python",
   "pygments_lexer": "ipython3",
   "version": "3.8.3"
  }
 },
 "nbformat": 4,
 "nbformat_minor": 4
}
