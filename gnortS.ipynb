{
 "cells": [
  {
   "cell_type": "code",
   "execution_count": 14,
   "metadata": {},
   "outputs": [
    {
     "name": "stdout",
     "output_type": "stream",
     "text": [
      "sortingS1234\n",
      "ginorstS1324\n"
     ]
    }
   ],
   "source": [
    "s =input()\n",
    "#task is to sort the string that first all sorted lower case chars \n",
    "#then all sorted upper case and then sorted numbers. in sorted number odd numbers should come first\n",
    "#t =''.join(sorted(s,reverse=True))\n",
    "t = sorted([char for char in s if char.islower()])\n",
    "t += sorted([char for char in s if char.isupper()])\n",
    "t += sorted([char for char in s if char.isnumeric() and int(char)%2==1])\n",
    "t += sorted([char for char in s if char.isnumeric() and int(char)%2==0])\n",
    "t =''.join(t)\n",
    "print(t) \n",
    "#sortinGTEST123 --> inorstEGSTT132\n",
    "#sOrTiNgTe4St13 -->"
   ]
  },
  {
   "cell_type": "code",
   "execution_count": 15,
   "metadata": {},
   "outputs": [
    {
     "name": "stdout",
     "output_type": "stream",
     "text": [
      "sortingS1234\n",
      "ginorstS1324\n"
     ]
    }
   ],
   "source": [
    "print(*(sorted(input(), key=lambda x: \n",
    "               (x.isdigit(), x.isdigit() and int(x)%2==0, x.isupper(), x.islower(), x))), sep='')"
   ]
  },
  {
   "cell_type": "code",
   "execution_count": null,
   "metadata": {},
   "outputs": [],
   "source": []
  }
 ],
 "metadata": {
  "kernelspec": {
   "display_name": "Python 3",
   "language": "python",
   "name": "python3"
  },
  "language_info": {
   "codemirror_mode": {
    "name": "ipython",
    "version": 3
   },
   "file_extension": ".py",
   "mimetype": "text/x-python",
   "name": "python",
   "nbconvert_exporter": "python",
   "pygments_lexer": "ipython3",
   "version": "3.8.3"
  }
 },
 "nbformat": 4,
 "nbformat_minor": 4
}
