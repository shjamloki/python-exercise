{
 "cells": [
  {
   "cell_type": "code",
   "execution_count": 5,
   "metadata": {},
   "outputs": [
    {
     "name": "stdout",
     "output_type": "stream",
     "text": [
      "3\n",
      " 1  1  1  1\n",
      " 2  2  2 10\n",
      " 3  3  3 11\n"
     ]
    }
   ],
   "source": [
    "STDIN = int(input())\n",
    "w = len(str(bin(STDIN)).replace('0b',''))\n",
    "\n",
    "for i in range(1, STDIN+1):\n",
    "    b = bin(int(i)).replace('0b','').rjust(w, ' ')\n",
    "    o = oct(int(i)).replace('0o','', 1).rjust(w, ' ')\n",
    "    h = hex(int(i)).replace('0x','').upper().rjust(w, ' ')\n",
    "    j = str(i).rjust(w, ' ')\n",
    "    print (j, o, h, b)"
   ]
  },
  {
   "cell_type": "code",
   "execution_count": 11,
   "metadata": {},
   "outputs": [
    {
     "name": "stdout",
     "output_type": "stream",
     "text": [
      "3\n",
      " 1  1  1  1\n",
      " 2  2  2 10\n",
      " 3  3  3 11\n"
     ]
    }
   ],
   "source": [
    "num = int(input())\n",
    "w = len(str(bin(num)).replace('0b',''))\n",
    "\n",
    "for i in range(1,num+1):\n",
    "    b = bin(int(i)).replace('0b','').rjust(w, ' ')\n",
    "    o = oct(int(i)).replace('0o','',1).rjust(w,' ')\n",
    "    h = hex(int(i)).replace('0x','').upper().rjust(w,' ')\n",
    "    j = str(i).rjust(w,' ')\n",
    "    print(j,o,h,b)"
   ]
  },
  {
   "cell_type": "code",
   "execution_count": null,
   "metadata": {},
   "outputs": [],
   "source": []
  }
 ],
 "metadata": {
  "kernelspec": {
   "display_name": "Python 3",
   "language": "python",
   "name": "python3"
  },
  "language_info": {
   "codemirror_mode": {
    "name": "ipython",
    "version": 3
   },
   "file_extension": ".py",
   "mimetype": "text/x-python",
   "name": "python",
   "nbconvert_exporter": "python",
   "pygments_lexer": "ipython3",
   "version": "3.8.3"
  }
 },
 "nbformat": 4,
 "nbformat_minor": 4
}
