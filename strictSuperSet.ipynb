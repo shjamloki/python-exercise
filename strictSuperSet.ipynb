{
 "cells": [
  {
   "cell_type": "code",
   "execution_count": 7,
   "metadata": {},
   "outputs": [
    {
     "name": "stdout",
     "output_type": "stream",
     "text": [
      "1 2 3\n",
      "1\n",
      "1 2 3\n",
      "False\n"
     ]
    }
   ],
   "source": [
    "mainset = set(map(int,input().split()))\n",
    "result = True\n",
    "n = int(input())\n",
    "for i in range(n):\n",
    "    nextset = set(map(int,input().split()))\n",
    "    test = len(nextset.difference(mainset))==0 and len(mainset.difference(nextset)) != 0\n",
    "    result = result and test\n",
    "print(result)"
   ]
  },
  {
   "cell_type": "code",
   "execution_count": null,
   "metadata": {},
   "outputs": [],
   "source": []
  }
 ],
 "metadata": {
  "kernelspec": {
   "display_name": "Python 3",
   "language": "python",
   "name": "python3"
  },
  "language_info": {
   "codemirror_mode": {
    "name": "ipython",
    "version": 3
   },
   "file_extension": ".py",
   "mimetype": "text/x-python",
   "name": "python",
   "nbconvert_exporter": "python",
   "pygments_lexer": "ipython3",
   "version": "3.8.3"
  }
 },
 "nbformat": 4,
 "nbformat_minor": 4
}
