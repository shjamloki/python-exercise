{
 "cells": [
  {
   "cell_type": "code",
   "execution_count": 19,
   "metadata": {},
   "outputs": [
    {
     "name": "stdout",
     "output_type": "stream",
     "text": [
      "1\n",
      "x&& &&& && && x || | ||\\|| x\n",
      "x&& &&& and && x or | ||\\|| x\n"
     ]
    }
   ],
   "source": [
    "#You are given a text of N lines. The text contains && and || symbols.\n",
    "#Your task is to modify those symbols to the following: \n",
    "#&& → and\n",
    "#|| → or\n",
    "#Both && and || should have a space \" \" on both sides. \n",
    "\n",
    "#my attempt --> did not work for three cases like below.\n",
    "import re\n",
    "for _ in range(int(input())):\n",
    "    line = input() \n",
    "    line = re.sub(r\" \\&\\& \",\" and \",line) # fix is this : (?<=\\s)&&(?=\\s)\n",
    "    line = re.sub(r\" \\|\\| \",\" or \",line)\n",
    "    print(line)\n",
    "\n",
    "#x&& &&& && && x || | ||\\|| x  ---> expected output \"x&& &&& and and x or | ||\\|| x\""
   ]
  },
  {
   "cell_type": "code",
   "execution_count": 18,
   "metadata": {},
   "outputs": [
    {
     "name": "stdout",
     "output_type": "stream",
     "text": [
      "1\n",
      "x&& &&& && && x || | ||\\|| x\n",
      "x&& &&& and and x or | ||\\|| x\n"
     ]
    }
   ],
   "source": [
    "import re\n",
    "\n",
    "for _ in range(int(input())):\n",
    "    print(re.sub(r'(?<= )(\\&\\&|\\|\\|)(?= )', (lambda m: 'and' if m.group(1) == '&&' else 'or'), input()))"
   ]
  },
  {
   "cell_type": "code",
   "execution_count": 23,
   "metadata": {},
   "outputs": [
    {
     "name": "stdout",
     "output_type": "stream",
     "text": [
      "1\n",
      "x&& &&& && && x || | ||\\|| x\n",
      "x&& &&& and and x or | ||\\|| x\n"
     ]
    }
   ],
   "source": [
    "for i in range(int(input())):\n",
    "    line = input()\n",
    "    and_line = re.sub('(?<=\\s)&&(?=\\s)', 'and', line)\n",
    "    final = re.sub(r'(?<=\\s)[|]{2}(?=\\s)', 'or', and_line)\n",
    "    print(final)"
   ]
  },
  {
   "cell_type": "code",
   "execution_count": 24,
   "metadata": {},
   "outputs": [
    {
     "name": "stdout",
     "output_type": "stream",
     "text": [
      "1\n",
      "x&& &&& && && x || | ||\\|| x\n",
      "x&& &&& and and x or | ||\\|| x\n"
     ]
    }
   ],
   "source": [
    "import re\n",
    "# two pass\n",
    "for _ in range(int(input())):\n",
    "    S=re.sub(' \\|\\| ', ' or ', re.sub(' && ', ' and ', input())) \n",
    "    print (re.sub(' \\|\\| ', ' or ', re.sub(' && ', ' and ', S)) )"
   ]
  },
  {
   "cell_type": "code",
   "execution_count": null,
   "metadata": {},
   "outputs": [],
   "source": []
  }
 ],
 "metadata": {
  "kernelspec": {
   "display_name": "Python 3",
   "language": "python",
   "name": "python3"
  },
  "language_info": {
   "codemirror_mode": {
    "name": "ipython",
    "version": 3
   },
   "file_extension": ".py",
   "mimetype": "text/x-python",
   "name": "python",
   "nbconvert_exporter": "python",
   "pygments_lexer": "ipython3",
   "version": "3.8.3"
  }
 },
 "nbformat": 4,
 "nbformat_minor": 4
}
