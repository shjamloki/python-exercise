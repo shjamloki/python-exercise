{
 "cells": [
  {
   "cell_type": "code",
   "execution_count": 29,
   "metadata": {},
   "outputs": [
    {
     "name": "stdout",
     "output_type": "stream",
     "text": [
      "1113333\n",
      "1\n",
      "3\n",
      "(1, 3) (3, 4)\n"
     ]
    }
   ],
   "source": [
    "import itertools \n",
    "key = []\n",
    "value =[]\n",
    "s = input()\n",
    "t = itertools.groupby(s)\n",
    "for i,j in t:\n",
    "    key.append(int(i))\n",
    "    value.append(len(list(j)))\n",
    "print(*zip(value,key))"
   ]
  },
  {
   "cell_type": "code",
   "execution_count": 30,
   "metadata": {},
   "outputs": [
    {
     "name": "stdout",
     "output_type": "stream",
     "text": [
      "11223333\n",
      "(2, 1) (2, 2) (4, 3)\n"
     ]
    }
   ],
   "source": [
    "from itertools import groupby\n",
    "print(*[(len(list(c)), int(k)) for k, c in groupby(input())])"
   ]
  },
  {
   "cell_type": "code",
   "execution_count": null,
   "metadata": {},
   "outputs": [],
   "source": []
  }
 ],
 "metadata": {
  "kernelspec": {
   "display_name": "Python 3",
   "language": "python",
   "name": "python3"
  },
  "language_info": {
   "codemirror_mode": {
    "name": "ipython",
    "version": 3
   },
   "file_extension": ".py",
   "mimetype": "text/x-python",
   "name": "python",
   "nbconvert_exporter": "python",
   "pygments_lexer": "ipython3",
   "version": "3.8.3"
  }
 },
 "nbformat": 4,
 "nbformat_minor": 4
}
