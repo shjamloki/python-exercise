{
 "cells": [
  {
   "cell_type": "code",
   "execution_count": 2,
   "metadata": {},
   "outputs": [
    {
     "name": "stdout",
     "output_type": "stream",
     "text": [
      "Stuard 12\n"
     ]
    }
   ],
   "source": [
    "def minion_game(string):\n",
    "    # your code goes here\n",
    "    stuartC =0\n",
    "    kevinV = 0\n",
    "    for i in range(0,len(string)):\n",
    "        if(string[i] in (\"A\",\"E\",\"I\",\"O\",\"U\",\"a\",\"e\",\"i\",\"o\",\"u\")):\n",
    "            kevinV += len(string)-i\n",
    "        else:\n",
    "            stuartC += len(string)-i\n",
    "    if(stuartC > kevinV):\n",
    "        print(\"Stuard \"+str(stuartC))\n",
    "    elif(stuartC == kevinV):\n",
    "        print(\"Draw\")\n",
    "    else: \n",
    "        print(\"Kevin \"+str(kevinV))\n",
    "        \n",
    "minion_game(\"banana\")"
   ]
  },
  {
   "cell_type": "code",
   "execution_count": null,
   "metadata": {},
   "outputs": [],
   "source": []
  }
 ],
 "metadata": {
  "kernelspec": {
   "display_name": "Python 3",
   "language": "python",
   "name": "python3"
  },
  "language_info": {
   "codemirror_mode": {
    "name": "ipython",
    "version": 3
   },
   "file_extension": ".py",
   "mimetype": "text/x-python",
   "name": "python",
   "nbconvert_exporter": "python",
   "pygments_lexer": "ipython3",
   "version": "3.8.3"
  }
 },
 "nbformat": 4,
 "nbformat_minor": 4
}
