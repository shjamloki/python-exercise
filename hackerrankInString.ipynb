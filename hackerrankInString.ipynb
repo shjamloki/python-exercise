{
 "cells": [
  {
   "cell_type": "code",
   "execution_count": 5,
   "metadata": {},
   "outputs": [
    {
     "name": "stdout",
     "output_type": "stream",
     "text": [
      "10\n",
      "test\n",
      "NO\n",
      "hackerrank\n",
      "YES\n",
      "haacccctkernnnranfkdsfk\n",
      "YES\n",
      "oh yest hackerrank\n",
      "YES\n",
      "good hackarrenk\n",
      "NO\n",
      "no fsfhfsfafckfsaedfsfdrsdffrdfadfnfkdfdaffd\n",
      "YES\n",
      "ok\n",
      "NO\n",
      "hackword\n",
      "NO\n",
      "nohck\n",
      "NO\n",
      "      h  a   c  k  e  e r    w r  a  o  r  d n   k k\n",
      "YES\n"
     ]
    }
   ],
   "source": [
    " # We say that a string contains the word hackerrank if a subsequence of its\n",
    " #* characters spell the word hackerrank. Remember that a subsequence maintains\n",
    " #* the order of characters selected from a sequence.\n",
    " #*\n",
    " #* More formally, let p0,p1....p9 be the respective indices of h, a, c, k, e, r,\n",
    " #* r, a, n, k in string s. If p0<p1<p2<.....<p9 is true, then s contains\n",
    " #* hackerrank. For each query, print YES on a new line if the string contains\n",
    " #* hackerrank, otherwise, print NO.\n",
    "import re\n",
    "for _ in range(int(input())):\n",
    "    s = input()\n",
    "    print( (re.search('.*'.join(\"hackerrank\"), s) and \"YES\") or \"NO\")"
   ]
  },
  {
   "cell_type": "code",
   "execution_count": null,
   "metadata": {},
   "outputs": [],
   "source": []
  }
 ],
 "metadata": {
  "kernelspec": {
   "display_name": "Python 3",
   "language": "python",
   "name": "python3"
  },
  "language_info": {
   "codemirror_mode": {
    "name": "ipython",
    "version": 3
   },
   "file_extension": ".py",
   "mimetype": "text/x-python",
   "name": "python",
   "nbconvert_exporter": "python",
   "pygments_lexer": "ipython3",
   "version": "3.8.3"
  }
 },
 "nbformat": 4,
 "nbformat_minor": 4
}
