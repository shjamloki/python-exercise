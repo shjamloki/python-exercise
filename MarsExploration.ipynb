{
 "cells": [
  {
   "cell_type": "code",
   "execution_count": 1,
   "metadata": {},
   "outputs": [
    {
     "name": "stdout",
     "output_type": "stream",
     "text": [
      "SOSTOT\n",
      "2\n"
     ]
    }
   ],
   "source": [
    "#count number of chars not matched in \"SOS\" text message\n",
    "s=input().strip()\n",
    "print(sum(1 for i in range(len(s)) if s[i]!=\"SOS\"[i%3]))"
   ]
  },
  {
   "cell_type": "code",
   "execution_count": 2,
   "metadata": {},
   "outputs": [
    {
     "name": "stdout",
     "output_type": "stream",
     "text": [
      "SOSTOT\n",
      "2\n"
     ]
    }
   ],
   "source": [
    "from itertools import cycle\n",
    "print(sum(1 for i, j in zip(input(), cycle(\"SOS\")) if i != j))"
   ]
  },
  {
   "cell_type": "code",
   "execution_count": null,
   "metadata": {},
   "outputs": [],
   "source": []
  }
 ],
 "metadata": {
  "kernelspec": {
   "display_name": "Python 3",
   "language": "python",
   "name": "python3"
  },
  "language_info": {
   "codemirror_mode": {
    "name": "ipython",
    "version": 3
   },
   "file_extension": ".py",
   "mimetype": "text/x-python",
   "name": "python",
   "nbconvert_exporter": "python",
   "pygments_lexer": "ipython3",
   "version": "3.8.3"
  }
 },
 "nbformat": 4,
 "nbformat_minor": 4
}
