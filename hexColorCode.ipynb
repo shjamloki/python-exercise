{
 "cells": [
  {
   "cell_type": "code",
   "execution_count": 8,
   "metadata": {},
   "outputs": [
    {
     "name": "stdout",
     "output_type": "stream",
     "text": [
      "3\n",
      "#f0f {\n",
      "\tborder-top: 20px solid #f00;\n",
      "\tborder-top: 20px solid #f00;\n"
     ]
    }
   ],
   "source": [
    "import re\n",
    "#pat = r'(#[0-9a-fA-F]{3,6}).'\n",
    "pat = r'(:|,| ) *#([abcdefABCDEF1234567890]{3}|[abcdefABCDEF1234567890]{6})\\b'\n",
    "#n = int(input())\n",
    "for _ in range(int(input())):\n",
    "    m = re.findall(pat,input())\n",
    "    #print(m)\n",
    "    for i in m:\n",
    "        print(i)\n",
    "##BED\n",
    "#{\n",
    "#    color: #FfFdF8; background-color:#aef;\n",
    "#    font-size: 123px;\n",
    "#    background: -webkit-linear-gradient(top, #f9f9f9, #fff);\n",
    "#}\n",
    "#Cab\n",
    "#{\n",
    "#    background-color: #ABC;\n",
    "#    border: 2px dashed #fff;\n",
    "#}   \n",
    "#.arrow-up {\n",
    "#\twidth: 0;\n",
    "#\theight: 0;\n",
    "#\tborder-left: 5px solid transparent;\n",
    "#\tborder-right: 5px solid transparent;\n",
    "#\n",
    "#\tborder-bottom: 5px solid black;\n",
    "#}\n",
    "#\n",
    "#.arrow-down {\n",
    "#\twidth: 0;\n",
    "#\theight: 0;\n",
    "#\tborder-left: 20px solid transparent;\n",
    "#\tborder-right: 20px solid transparent;\n",
    "#\n",
    "#\tborder-top: 20px solid #f00;\n",
    "#}\n",
    "#\n",
    "#.arrow-right {\n",
    "#\twidth: 0;\n",
    "#\theight: 0;\n",
    "#\tborder-top: 60px solid transparent;\n",
    "#\tborder-bottom: 60px solid transparent;\n",
    "#\n",
    "#\tborder-left: 60px solid green;\n",
    "#}\n",
    "#\n",
    "#f0f {\n",
    "#\twidth: 0;\n",
    "#\theight: 0;\n",
    "#\tborder-top: 10px solid transparent;\n",
    "#\tborder-bottom: 10px solid transparent;\n",
    "#\n",
    "#\tborder-right:10px solid blue;\n",
    "#}"
   ]
  },
  {
   "cell_type": "code",
   "execution_count": 10,
   "metadata": {},
   "outputs": [
    {
     "name": "stdout",
     "output_type": "stream",
     "text": [
      "1\n",
      "#f0f {\n"
     ]
    }
   ],
   "source": [
    "import re\n",
    "for _ in range(int(input())):\n",
    "    hexCodes = re.findall(r'(#[0-9A-F]{3,6})(?=\\S)',input(),re.I)\n",
    "    if hexCodes:\n",
    "        print(\"\\n\".join(map(str,hexCodes)))\n",
    "    else:\n",
    "        continue\t"
   ]
  },
  {
   "cell_type": "code",
   "execution_count": null,
   "metadata": {},
   "outputs": [],
   "source": []
  }
 ],
 "metadata": {
  "kernelspec": {
   "display_name": "Python 3",
   "language": "python",
   "name": "python3"
  },
  "language_info": {
   "codemirror_mode": {
    "name": "ipython",
    "version": 3
   },
   "file_extension": ".py",
   "mimetype": "text/x-python",
   "name": "python",
   "nbconvert_exporter": "python",
   "pygments_lexer": "ipython3",
   "version": "3.8.3"
  }
 },
 "nbformat": 4,
 "nbformat_minor": 4
}
