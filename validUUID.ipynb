{
 "cells": [
  {
   "cell_type": "code",
   "execution_count": 22,
   "metadata": {},
   "outputs": [
    {
     "name": "stdout",
     "output_type": "stream",
     "text": [
      "1\n",
      "12#qWErtyu\n",
      "Invalid 1\n"
     ]
    }
   ],
   "source": [
    "import re\n",
    "for _ in range(int(input())):\n",
    "    teststr = input();\n",
    "    if(len(teststr) != 10): \n",
    "        print(\"Invalid 0\")\n",
    "        continue;\n",
    "    s =set()\n",
    "    upperCount=0;\n",
    "    digitCount=0;\n",
    "    outofRange=False\n",
    "    for i in teststr:\n",
    "        s.add(i)\n",
    "        if(i.isupper()): \n",
    "            upperCount += 1\n",
    "        if(i.isdigit()):\n",
    "            digitCount += 1\n",
    "        if(i.isalnum()):\n",
    "            continue;\n",
    "        else:\n",
    "            outofRange = True\n",
    "            break;\n",
    "    if(outofRange):\n",
    "        print(\"Invalid 1\")  \n",
    "        continue;\n",
    "    elif(len(s) !=10):\n",
    "        print(\"Invalid 1\")  \n",
    "        continue;\n",
    "    elif(upperCount < 2):\n",
    "        print(\"Invalid 2\")  \n",
    "        continue;\n",
    "    elif(digitCount < 3):\n",
    "        print(\"Invalid 3\")  \n",
    "        continue;\n",
    "    else:\n",
    "        print(\"Valid\")"
   ]
  },
  {
   "cell_type": "code",
   "execution_count": 23,
   "metadata": {},
   "outputs": [
    {
     "name": "stdout",
     "output_type": "stream",
     "text": [
      "1\n",
      "12QWertyui\n",
      "Invalid\n"
     ]
    }
   ],
   "source": [
    "import re\n",
    "\n",
    "for _ in range(int(input())):\n",
    "    u = ''.join(sorted(input()))\n",
    "    try:\n",
    "        assert re.search(r'[A-Z]{2}', u)\n",
    "        assert re.search(r'\\d\\d\\d', u)\n",
    "        assert not re.search(r'[^a-zA-Z0-9]', u)\n",
    "        assert not re.search(r'(.)\\1', u)\n",
    "        assert len(u) == 10\n",
    "    except:\n",
    "        print('Invalid')\n",
    "    else:\n",
    "        print('Valid')"
   ]
  },
  {
   "cell_type": "markdown",
   "metadata": {},
   "source": []
  }
 ],
 "metadata": {
  "kernelspec": {
   "display_name": "Python 3",
   "language": "python",
   "name": "python3"
  },
  "language_info": {
   "codemirror_mode": {
    "name": "ipython",
    "version": 3
   },
   "file_extension": ".py",
   "mimetype": "text/x-python",
   "name": "python",
   "nbconvert_exporter": "python",
   "pygments_lexer": "ipython3",
   "version": "3.8.3"
  }
 },
 "nbformat": 4,
 "nbformat_minor": 4
}
